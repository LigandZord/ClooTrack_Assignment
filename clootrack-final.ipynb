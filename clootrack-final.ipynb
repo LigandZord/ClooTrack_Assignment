{
 "cells": [
  {
   "cell_type": "code",
   "execution_count": 1,
   "id": "4859b70a",
   "metadata": {
    "_cell_guid": "b1076dfc-b9ad-4769-8c92-a6c4dae69d19",
    "_uuid": "8f2839f25d086af736a60e9eeb907d3b93b6e0e5",
    "execution": {
     "iopub.execute_input": "2022-06-05T07:08:24.167799Z",
     "iopub.status.busy": "2022-06-05T07:08:24.167084Z",
     "iopub.status.idle": "2022-06-05T07:08:24.187297Z",
     "shell.execute_reply": "2022-06-05T07:08:24.186568Z"
    },
    "papermill": {
     "duration": 0.042472,
     "end_time": "2022-06-05T07:08:24.189318",
     "exception": false,
     "start_time": "2022-06-05T07:08:24.146846",
     "status": "completed"
    },
    "tags": []
   },
   "outputs": [
    {
     "name": "stdout",
     "output_type": "stream",
     "text": [
      "/kaggle/input/clootrack-assignment/Data Analyst - Test Data_new.xlsx\n"
     ]
    }
   ],
   "source": [
    "# This Python 3 environment comes with many helpful analytics libraries installed\n",
    "# It is defined by the kaggle/python Docker image: https://github.com/kaggle/docker-python\n",
    "# For example, here's several helpful packages to load\n",
    "\n",
    "import numpy as np # linear algebra\n",
    "import pandas as pd # data processing, CSV file I/O (e.g. pd.read_csv)\n",
    "\n",
    "# Input data files are available in the read-only \"../input/\" directory\n",
    "# For example, running this (by clicking run or pressing Shift+Enter) will list all files under the input directory\n",
    "\n",
    "import os\n",
    "for dirname, _, filenames in os.walk('/kaggle/input'):\n",
    "    for filename in filenames:\n",
    "        print(os.path.join(dirname, filename))\n",
    "\n",
    "# You can write up to 20GB to the current directory (/kaggle/working/) that gets preserved as output when you create a version using \"Save & Run All\" \n",
    "# You can also write temporary files to /kaggle/temp/, but they won't be saved outside of the current session"
   ]
  },
  {
   "cell_type": "code",
   "execution_count": 2,
   "id": "044bb751",
   "metadata": {
    "execution": {
     "iopub.execute_input": "2022-06-05T07:08:24.227877Z",
     "iopub.status.busy": "2022-06-05T07:08:24.227292Z",
     "iopub.status.idle": "2022-06-05T07:08:25.792676Z",
     "shell.execute_reply": "2022-06-05T07:08:25.791904Z"
    },
    "papermill": {
     "duration": 1.58551,
     "end_time": "2022-06-05T07:08:25.794746",
     "exception": false,
     "start_time": "2022-06-05T07:08:24.209236",
     "status": "completed"
    },
    "tags": []
   },
   "outputs": [],
   "source": [
    "import matplotlib.pyplot as plt\n",
    "import seaborn as sns\n",
    "\n",
    "plt.style.use('ggplot')\n",
    "\n",
    "import nltk\n",
    "import re"
   ]
  },
  {
   "cell_type": "code",
   "execution_count": 3,
   "id": "6cb46db9",
   "metadata": {
    "execution": {
     "iopub.execute_input": "2022-06-05T07:08:25.831035Z",
     "iopub.status.busy": "2022-06-05T07:08:25.830762Z",
     "iopub.status.idle": "2022-06-05T07:08:38.979786Z",
     "shell.execute_reply": "2022-06-05T07:08:38.978830Z"
    },
    "papermill": {
     "duration": 13.169321,
     "end_time": "2022-06-05T07:08:38.981784",
     "exception": false,
     "start_time": "2022-06-05T07:08:25.812463",
     "status": "completed"
    },
    "tags": []
   },
   "outputs": [
    {
     "name": "stdout",
     "output_type": "stream",
     "text": [
      "Collecting langdetect\r\n",
      "  Downloading langdetect-1.0.9.tar.gz (981 kB)\r\n",
      "\u001b[2K     \u001b[90m━━━━━━━━━━━━━━━━━━━━━━━━━━━━━━━━━━━━━━━\u001b[0m \u001b[32m981.5/981.5 kB\u001b[0m \u001b[31m3.6 MB/s\u001b[0m eta \u001b[36m0:00:00\u001b[0m\r\n",
      "\u001b[?25h  Preparing metadata (setup.py) ... \u001b[?25l-\b \bdone\r\n",
      "\u001b[?25hRequirement already satisfied: six in /opt/conda/lib/python3.7/site-packages (from langdetect) (1.16.0)\r\n",
      "Building wheels for collected packages: langdetect\r\n",
      "  Building wheel for langdetect (setup.py) ... \u001b[?25l-\b \b\\\b \b|\b \b/\b \bdone\r\n",
      "\u001b[?25h  Created wheel for langdetect: filename=langdetect-1.0.9-py3-none-any.whl size=993242 sha256=4735510a67c772a30e8c26bc38dc61ba643cbdbb2aa090a2b5bae46a1802d67f\r\n",
      "  Stored in directory: /root/.cache/pip/wheels/c5/96/8a/f90c59ed25d75e50a8c10a1b1c2d4c402e4dacfa87f3aff36a\r\n",
      "Successfully built langdetect\r\n",
      "Installing collected packages: langdetect\r\n",
      "Successfully installed langdetect-1.0.9\r\n",
      "\u001b[33mWARNING: Running pip as the 'root' user can result in broken permissions and conflicting behaviour with the system package manager. It is recommended to use a virtual environment instead: https://pip.pypa.io/warnings/venv\u001b[0m\u001b[33m\r\n",
      "\u001b[0m"
     ]
    }
   ],
   "source": [
    "!pip install langdetect\n",
    "from langdetect import detect"
   ]
  },
  {
   "cell_type": "code",
   "execution_count": 4,
   "id": "b3e43a1b",
   "metadata": {
    "execution": {
     "iopub.execute_input": "2022-06-05T07:08:39.021529Z",
     "iopub.status.busy": "2022-06-05T07:08:39.021190Z",
     "iopub.status.idle": "2022-06-05T07:08:49.206186Z",
     "shell.execute_reply": "2022-06-05T07:08:49.205140Z"
    },
    "papermill": {
     "duration": 10.207201,
     "end_time": "2022-06-05T07:08:49.208416",
     "exception": false,
     "start_time": "2022-06-05T07:08:39.001215",
     "status": "completed"
    },
    "tags": []
   },
   "outputs": [
    {
     "name": "stdout",
     "output_type": "stream",
     "text": [
      "Collecting openpyxl\r\n",
      "  Downloading openpyxl-3.0.10-py2.py3-none-any.whl (242 kB)\r\n",
      "\u001b[2K     \u001b[90m━━━━━━━━━━━━━━━━━━━━━━━━━━━━━━━━━━━━━━━\u001b[0m \u001b[32m242.1/242.1 kB\u001b[0m \u001b[31m1.5 MB/s\u001b[0m eta \u001b[36m0:00:00\u001b[0m\r\n",
      "\u001b[?25hCollecting et-xmlfile\r\n",
      "  Downloading et_xmlfile-1.1.0-py3-none-any.whl (4.7 kB)\r\n",
      "Installing collected packages: et-xmlfile, openpyxl\r\n",
      "Successfully installed et-xmlfile-1.1.0 openpyxl-3.0.10\r\n",
      "\u001b[33mWARNING: Running pip as the 'root' user can result in broken permissions and conflicting behaviour with the system package manager. It is recommended to use a virtual environment instead: https://pip.pypa.io/warnings/venv\u001b[0m\u001b[33m\r\n",
      "\u001b[0m"
     ]
    }
   ],
   "source": [
    "!pip install openpyxl"
   ]
  },
  {
   "cell_type": "code",
   "execution_count": 5,
   "id": "4b4ac36f",
   "metadata": {
    "execution": {
     "iopub.execute_input": "2022-06-05T07:08:49.248667Z",
     "iopub.status.busy": "2022-06-05T07:08:49.248350Z",
     "iopub.status.idle": "2022-06-05T07:08:49.252722Z",
     "shell.execute_reply": "2022-06-05T07:08:49.251759Z"
    },
    "papermill": {
     "duration": 0.026509,
     "end_time": "2022-06-05T07:08:49.254479",
     "exception": false,
     "start_time": "2022-06-05T07:08:49.227970",
     "status": "completed"
    },
    "tags": []
   },
   "outputs": [],
   "source": [
    "pd.options.mode.chained_assignment = None"
   ]
  },
  {
   "cell_type": "code",
   "execution_count": 6,
   "id": "0e13dbe1",
   "metadata": {
    "execution": {
     "iopub.execute_input": "2022-06-05T07:08:49.294603Z",
     "iopub.status.busy": "2022-06-05T07:08:49.293980Z",
     "iopub.status.idle": "2022-06-05T07:08:50.496740Z",
     "shell.execute_reply": "2022-06-05T07:08:50.495967Z"
    },
    "papermill": {
     "duration": 1.22531,
     "end_time": "2022-06-05T07:08:50.499133",
     "exception": false,
     "start_time": "2022-06-05T07:08:49.273823",
     "status": "completed"
    },
    "tags": []
   },
   "outputs": [],
   "source": [
    "df = pd.read_excel('../input/clootrack-assignment/Data Analyst - Test Data_new.xlsx')"
   ]
  },
  {
   "cell_type": "code",
   "execution_count": 7,
   "id": "211db337",
   "metadata": {
    "execution": {
     "iopub.execute_input": "2022-06-05T07:08:50.539919Z",
     "iopub.status.busy": "2022-06-05T07:08:50.539630Z",
     "iopub.status.idle": "2022-06-05T07:08:50.557092Z",
     "shell.execute_reply": "2022-06-05T07:08:50.556261Z"
    },
    "papermill": {
     "duration": 0.040041,
     "end_time": "2022-06-05T07:08:50.559366",
     "exception": false,
     "start_time": "2022-06-05T07:08:50.519325",
     "status": "completed"
    },
    "tags": []
   },
   "outputs": [
    {
     "data": {
      "text/html": [
       "<div>\n",
       "<style scoped>\n",
       "    .dataframe tbody tr th:only-of-type {\n",
       "        vertical-align: middle;\n",
       "    }\n",
       "\n",
       "    .dataframe tbody tr th {\n",
       "        vertical-align: top;\n",
       "    }\n",
       "\n",
       "    .dataframe thead th {\n",
       "        text-align: right;\n",
       "    }\n",
       "</style>\n",
       "<table border=\"1\" class=\"dataframe\">\n",
       "  <thead>\n",
       "    <tr style=\"text-align: right;\">\n",
       "      <th></th>\n",
       "      <th>Review</th>\n",
       "      <th>date</th>\n",
       "      <th>Location</th>\n",
       "    </tr>\n",
       "  </thead>\n",
       "  <tbody>\n",
       "    <tr>\n",
       "      <th>0</th>\n",
       "      <td>I was very impressed with the resort.\\n Great ...</td>\n",
       "      <td>2019-08-20</td>\n",
       "      <td>Sebastian</td>\n",
       "    </tr>\n",
       "    <tr>\n",
       "      <th>1</th>\n",
       "      <td>The rooms were nice the outside needs work als...</td>\n",
       "      <td>2019-08-20</td>\n",
       "      <td>Los Angeles</td>\n",
       "    </tr>\n",
       "    <tr>\n",
       "      <th>2</th>\n",
       "      <td>Great location! I have stayed at this hotel on...</td>\n",
       "      <td>2019-08-20</td>\n",
       "      <td>Georgia</td>\n",
       "    </tr>\n",
       "    <tr>\n",
       "      <th>3</th>\n",
       "      <td>The hotel was adequate for my stay. The strips...</td>\n",
       "      <td>2019-08-20</td>\n",
       "      <td>NaN</td>\n",
       "    </tr>\n",
       "    <tr>\n",
       "      <th>4</th>\n",
       "      <td>Great location, room was large and spacious. P...</td>\n",
       "      <td>2019-08-19</td>\n",
       "      <td>Palm Harbor</td>\n",
       "    </tr>\n",
       "  </tbody>\n",
       "</table>\n",
       "</div>"
      ],
      "text/plain": [
       "                                              Review       date     Location\n",
       "0  I was very impressed with the resort.\\n Great ... 2019-08-20    Sebastian\n",
       "1  The rooms were nice the outside needs work als... 2019-08-20  Los Angeles\n",
       "2  Great location! I have stayed at this hotel on... 2019-08-20      Georgia\n",
       "3  The hotel was adequate for my stay. The strips... 2019-08-20          NaN\n",
       "4  Great location, room was large and spacious. P... 2019-08-19  Palm Harbor"
      ]
     },
     "execution_count": 7,
     "metadata": {},
     "output_type": "execute_result"
    }
   ],
   "source": [
    "df.head()"
   ]
  },
  {
   "cell_type": "markdown",
   "id": "c3ad8cb1",
   "metadata": {
    "papermill": {
     "duration": 0.019164,
     "end_time": "2022-06-05T07:08:50.598577",
     "exception": false,
     "start_time": "2022-06-05T07:08:50.579413",
     "status": "completed"
    },
    "tags": []
   },
   "source": []
  },
  {
   "cell_type": "markdown",
   "id": "7a9e3244",
   "metadata": {
    "papermill": {
     "duration": 0.019758,
     "end_time": "2022-06-05T07:08:50.637492",
     "exception": false,
     "start_time": "2022-06-05T07:08:50.617734",
     "status": "completed"
    },
    "tags": []
   },
   "source": [
    "# Cleaning Data"
   ]
  },
  {
   "cell_type": "code",
   "execution_count": 8,
   "id": "851e669d",
   "metadata": {
    "execution": {
     "iopub.execute_input": "2022-06-05T07:08:50.677894Z",
     "iopub.status.busy": "2022-06-05T07:08:50.677580Z",
     "iopub.status.idle": "2022-06-05T07:08:50.687557Z",
     "shell.execute_reply": "2022-06-05T07:08:50.686817Z"
    },
    "papermill": {
     "duration": 0.032502,
     "end_time": "2022-06-05T07:08:50.689432",
     "exception": false,
     "start_time": "2022-06-05T07:08:50.656930",
     "status": "completed"
    },
    "tags": []
   },
   "outputs": [
    {
     "data": {
      "text/plain": [
       "55"
      ]
     },
     "execution_count": 8,
     "metadata": {},
     "output_type": "execute_result"
    }
   ],
   "source": [
    "df['Review'].isnull().sum()"
   ]
  },
  {
   "cell_type": "code",
   "execution_count": 9,
   "id": "9531ed96",
   "metadata": {
    "execution": {
     "iopub.execute_input": "2022-06-05T07:08:50.730339Z",
     "iopub.status.busy": "2022-06-05T07:08:50.729785Z",
     "iopub.status.idle": "2022-06-05T07:08:50.740514Z",
     "shell.execute_reply": "2022-06-05T07:08:50.739831Z"
    },
    "papermill": {
     "duration": 0.032691,
     "end_time": "2022-06-05T07:08:50.742185",
     "exception": false,
     "start_time": "2022-06-05T07:08:50.709494",
     "status": "completed"
    },
    "tags": []
   },
   "outputs": [],
   "source": [
    "df = df.dropna(subset = ['Review'])"
   ]
  },
  {
   "cell_type": "code",
   "execution_count": 10,
   "id": "c1f913b5",
   "metadata": {
    "execution": {
     "iopub.execute_input": "2022-06-05T07:08:50.782398Z",
     "iopub.status.busy": "2022-06-05T07:08:50.781769Z",
     "iopub.status.idle": "2022-06-05T07:08:50.788105Z",
     "shell.execute_reply": "2022-06-05T07:08:50.787413Z"
    },
    "papermill": {
     "duration": 0.028143,
     "end_time": "2022-06-05T07:08:50.789797",
     "exception": false,
     "start_time": "2022-06-05T07:08:50.761654",
     "status": "completed"
    },
    "tags": []
   },
   "outputs": [
    {
     "data": {
      "text/plain": [
       "0"
      ]
     },
     "execution_count": 10,
     "metadata": {},
     "output_type": "execute_result"
    }
   ],
   "source": [
    "df['Review'].isnull().sum()"
   ]
  },
  {
   "cell_type": "code",
   "execution_count": 11,
   "id": "4bab014b",
   "metadata": {
    "execution": {
     "iopub.execute_input": "2022-06-05T07:08:50.830904Z",
     "iopub.status.busy": "2022-06-05T07:08:50.830280Z",
     "iopub.status.idle": "2022-06-05T07:08:50.839458Z",
     "shell.execute_reply": "2022-06-05T07:08:50.837543Z"
    },
    "papermill": {
     "duration": 0.032467,
     "end_time": "2022-06-05T07:08:50.842000",
     "exception": false,
     "start_time": "2022-06-05T07:08:50.809533",
     "status": "completed"
    },
    "tags": []
   },
   "outputs": [],
   "source": [
    "# As seen, there are multiple delimiters and texts that are unnecessary such as 'Read more'. We need to remove these"
   ]
  },
  {
   "cell_type": "code",
   "execution_count": 12,
   "id": "fc313586",
   "metadata": {
    "execution": {
     "iopub.execute_input": "2022-06-05T07:08:50.906083Z",
     "iopub.status.busy": "2022-06-05T07:08:50.904985Z",
     "iopub.status.idle": "2022-06-05T07:08:50.963863Z",
     "shell.execute_reply": "2022-06-05T07:08:50.962266Z"
    },
    "papermill": {
     "duration": 0.093537,
     "end_time": "2022-06-05T07:08:50.966456",
     "exception": false,
     "start_time": "2022-06-05T07:08:50.872919",
     "status": "completed"
    },
    "tags": []
   },
   "outputs": [],
   "source": [
    "df['Review'] = df['Review'].replace('\\n',\"\")\n",
    "df['Review'] = df['Review'].str.replace('Read more',\"\")\n",
    "df['Review'] = df['Review'].str.replace('Read less',\"\")"
   ]
  },
  {
   "cell_type": "code",
   "execution_count": 13,
   "id": "e9768c19",
   "metadata": {
    "execution": {
     "iopub.execute_input": "2022-06-05T07:08:51.040660Z",
     "iopub.status.busy": "2022-06-05T07:08:51.040162Z",
     "iopub.status.idle": "2022-06-05T07:08:51.044640Z",
     "shell.execute_reply": "2022-06-05T07:08:51.043681Z"
    },
    "papermill": {
     "duration": 0.043812,
     "end_time": "2022-06-05T07:08:51.048155",
     "exception": false,
     "start_time": "2022-06-05T07:08:51.004343",
     "status": "completed"
    },
    "tags": []
   },
   "outputs": [],
   "source": [
    "# We should also remove xml as well as many spaces from the text to make it cleaner"
   ]
  },
  {
   "cell_type": "code",
   "execution_count": 14,
   "id": "6de19f22",
   "metadata": {
    "execution": {
     "iopub.execute_input": "2022-06-05T07:08:51.115393Z",
     "iopub.status.busy": "2022-06-05T07:08:51.114779Z",
     "iopub.status.idle": "2022-06-05T07:08:51.208044Z",
     "shell.execute_reply": "2022-06-05T07:08:51.207333Z"
    },
    "papermill": {
     "duration": 0.128697,
     "end_time": "2022-06-05T07:08:51.209811",
     "exception": false,
     "start_time": "2022-06-05T07:08:51.081114",
     "status": "completed"
    },
    "tags": []
   },
   "outputs": [],
   "source": [
    "df['Review'] = df['Review'].apply(lambda x: re.sub(r'[^\\w\\s]', '', x)) #xml removed"
   ]
  },
  {
   "cell_type": "code",
   "execution_count": 15,
   "id": "67aaf5de",
   "metadata": {
    "execution": {
     "iopub.execute_input": "2022-06-05T07:08:51.272188Z",
     "iopub.status.busy": "2022-06-05T07:08:51.271704Z",
     "iopub.status.idle": "2022-06-05T07:08:51.457221Z",
     "shell.execute_reply": "2022-06-05T07:08:51.456393Z"
    },
    "papermill": {
     "duration": 0.220744,
     "end_time": "2022-06-05T07:08:51.460394",
     "exception": false,
     "start_time": "2022-06-05T07:08:51.239650",
     "status": "completed"
    },
    "tags": []
   },
   "outputs": [],
   "source": [
    "df['Review'] = df['Review'].apply(lambda x: re.sub(r'\\s+', ' ', x))"
   ]
  },
  {
   "cell_type": "code",
   "execution_count": 16,
   "id": "f6a0b330",
   "metadata": {
    "execution": {
     "iopub.execute_input": "2022-06-05T07:08:51.528266Z",
     "iopub.status.busy": "2022-06-05T07:08:51.527773Z",
     "iopub.status.idle": "2022-06-05T07:08:51.535441Z",
     "shell.execute_reply": "2022-06-05T07:08:51.534795Z"
    },
    "papermill": {
     "duration": 0.046739,
     "end_time": "2022-06-05T07:08:51.540695",
     "exception": false,
     "start_time": "2022-06-05T07:08:51.493956",
     "status": "completed"
    },
    "tags": []
   },
   "outputs": [
    {
     "data": {
      "text/plain": [
       "'I was very impressed with the resort Great staff at the main resort pool bar We had a blast with them Clean professional staff great location and very reasonable '"
      ]
     },
     "execution_count": 16,
     "metadata": {},
     "output_type": "execute_result"
    }
   ],
   "source": [
    "df['Review'][0]"
   ]
  },
  {
   "cell_type": "code",
   "execution_count": 17,
   "id": "e4b59c3d",
   "metadata": {
    "execution": {
     "iopub.execute_input": "2022-06-05T07:08:51.607698Z",
     "iopub.status.busy": "2022-06-05T07:08:51.607366Z",
     "iopub.status.idle": "2022-06-05T07:08:51.610829Z",
     "shell.execute_reply": "2022-06-05T07:08:51.610175Z"
    },
    "papermill": {
     "duration": 0.040627,
     "end_time": "2022-06-05T07:08:51.614234",
     "exception": false,
     "start_time": "2022-06-05T07:08:51.573607",
     "status": "completed"
    },
    "tags": []
   },
   "outputs": [],
   "source": [
    "#Now the reviews look readable and neat. We must now clean the other unwanted column datas"
   ]
  },
  {
   "cell_type": "markdown",
   "id": "483ea5a9",
   "metadata": {
    "papermill": {
     "duration": 0.032013,
     "end_time": "2022-06-05T07:08:51.678819",
     "exception": false,
     "start_time": "2022-06-05T07:08:51.646806",
     "status": "completed"
    },
    "tags": []
   },
   "source": [
    "# Working with Reviews"
   ]
  },
  {
   "cell_type": "code",
   "execution_count": 18,
   "id": "7f2fb2e0",
   "metadata": {
    "execution": {
     "iopub.execute_input": "2022-06-05T07:08:51.744889Z",
     "iopub.status.busy": "2022-06-05T07:08:51.744489Z",
     "iopub.status.idle": "2022-06-05T07:08:51.749158Z",
     "shell.execute_reply": "2022-06-05T07:08:51.748516Z"
    },
    "papermill": {
     "duration": 0.041131,
     "end_time": "2022-06-05T07:08:51.752637",
     "exception": false,
     "start_time": "2022-06-05T07:08:51.711506",
     "status": "completed"
    },
    "tags": []
   },
   "outputs": [],
   "source": [
    "df = df.iloc[:,0:1]"
   ]
  },
  {
   "cell_type": "code",
   "execution_count": 19,
   "id": "5116f46a",
   "metadata": {
    "execution": {
     "iopub.execute_input": "2022-06-05T07:08:51.819063Z",
     "iopub.status.busy": "2022-06-05T07:08:51.818739Z",
     "iopub.status.idle": "2022-06-05T07:08:51.830554Z",
     "shell.execute_reply": "2022-06-05T07:08:51.829913Z"
    },
    "papermill": {
     "duration": 0.047936,
     "end_time": "2022-06-05T07:08:51.832758",
     "exception": false,
     "start_time": "2022-06-05T07:08:51.784822",
     "status": "completed"
    },
    "tags": []
   },
   "outputs": [
    {
     "data": {
      "text/html": [
       "<div>\n",
       "<style scoped>\n",
       "    .dataframe tbody tr th:only-of-type {\n",
       "        vertical-align: middle;\n",
       "    }\n",
       "\n",
       "    .dataframe tbody tr th {\n",
       "        vertical-align: top;\n",
       "    }\n",
       "\n",
       "    .dataframe thead th {\n",
       "        text-align: right;\n",
       "    }\n",
       "</style>\n",
       "<table border=\"1\" class=\"dataframe\">\n",
       "  <thead>\n",
       "    <tr style=\"text-align: right;\">\n",
       "      <th></th>\n",
       "      <th>Review</th>\n",
       "    </tr>\n",
       "  </thead>\n",
       "  <tbody>\n",
       "    <tr>\n",
       "      <th>0</th>\n",
       "      <td>I was very impressed with the resort Great sta...</td>\n",
       "    </tr>\n",
       "    <tr>\n",
       "      <th>1</th>\n",
       "      <td>The rooms were nice the outside needs work als...</td>\n",
       "    </tr>\n",
       "    <tr>\n",
       "      <th>2</th>\n",
       "      <td>Great location I have stayed at this hotel on ...</td>\n",
       "    </tr>\n",
       "    <tr>\n",
       "      <th>3</th>\n",
       "      <td>The hotel was adequate for my stay The strips ...</td>\n",
       "    </tr>\n",
       "    <tr>\n",
       "      <th>4</th>\n",
       "      <td>Great location room was large and spacious Par...</td>\n",
       "    </tr>\n",
       "  </tbody>\n",
       "</table>\n",
       "</div>"
      ],
      "text/plain": [
       "                                              Review\n",
       "0  I was very impressed with the resort Great sta...\n",
       "1  The rooms were nice the outside needs work als...\n",
       "2  Great location I have stayed at this hotel on ...\n",
       "3  The hotel was adequate for my stay The strips ...\n",
       "4  Great location room was large and spacious Par..."
      ]
     },
     "execution_count": 19,
     "metadata": {},
     "output_type": "execute_result"
    }
   ],
   "source": [
    "df.head()"
   ]
  },
  {
   "cell_type": "code",
   "execution_count": 20,
   "id": "9ed0f1e7",
   "metadata": {
    "execution": {
     "iopub.execute_input": "2022-06-05T07:08:51.899357Z",
     "iopub.status.busy": "2022-06-05T07:08:51.899016Z",
     "iopub.status.idle": "2022-06-05T07:08:51.910797Z",
     "shell.execute_reply": "2022-06-05T07:08:51.910137Z"
    },
    "papermill": {
     "duration": 0.047655,
     "end_time": "2022-06-05T07:08:51.912995",
     "exception": false,
     "start_time": "2022-06-05T07:08:51.865340",
     "status": "completed"
    },
    "tags": []
   },
   "outputs": [
    {
     "data": {
      "text/plain": [
       "Review    0\n",
       "dtype: int64"
      ]
     },
     "execution_count": 20,
     "metadata": {},
     "output_type": "execute_result"
    }
   ],
   "source": [
    "df.isnull().sum()"
   ]
  },
  {
   "cell_type": "markdown",
   "id": "18a9a001",
   "metadata": {
    "papermill": {
     "duration": 0.0343,
     "end_time": "2022-06-05T07:08:51.980255",
     "exception": false,
     "start_time": "2022-06-05T07:08:51.945955",
     "status": "completed"
    },
    "tags": []
   },
   "source": []
  },
  {
   "cell_type": "markdown",
   "id": "d7478542",
   "metadata": {
    "papermill": {
     "duration": 0.033472,
     "end_time": "2022-06-05T07:08:52.047083",
     "exception": false,
     "start_time": "2022-06-05T07:08:52.013611",
     "status": "completed"
    },
    "tags": []
   },
   "source": [
    "## Converting all reviews to english "
   ]
  },
  {
   "cell_type": "code",
   "execution_count": 21,
   "id": "d55d29ac",
   "metadata": {
    "execution": {
     "iopub.execute_input": "2022-06-05T07:08:52.116067Z",
     "iopub.status.busy": "2022-06-05T07:08:52.115709Z",
     "iopub.status.idle": "2022-06-05T07:09:33.476766Z",
     "shell.execute_reply": "2022-06-05T07:09:33.475914Z"
    },
    "papermill": {
     "duration": 41.39817,
     "end_time": "2022-06-05T07:09:33.478907",
     "exception": false,
     "start_time": "2022-06-05T07:08:52.080737",
     "status": "completed"
    },
    "tags": []
   },
   "outputs": [],
   "source": [
    "for index, row in df['Review'].iteritems():\n",
    "    try:\n",
    "        lang = detect(row) #detecting each row\n",
    "    except:\n",
    "        lang='Unknown'\n",
    "    df.loc[index, 'Languagereveiw'] = lang"
   ]
  },
  {
   "cell_type": "code",
   "execution_count": 22,
   "id": "4139a229",
   "metadata": {
    "execution": {
     "iopub.execute_input": "2022-06-05T07:09:33.519991Z",
     "iopub.status.busy": "2022-06-05T07:09:33.519698Z",
     "iopub.status.idle": "2022-06-05T07:09:33.525214Z",
     "shell.execute_reply": "2022-06-05T07:09:33.524436Z"
    },
    "papermill": {
     "duration": 0.028034,
     "end_time": "2022-06-05T07:09:33.527132",
     "exception": false,
     "start_time": "2022-06-05T07:09:33.499098",
     "status": "completed"
    },
    "tags": []
   },
   "outputs": [
    {
     "data": {
      "text/plain": [
       "(6393, 2)"
      ]
     },
     "execution_count": 22,
     "metadata": {},
     "output_type": "execute_result"
    }
   ],
   "source": [
    "df.shape"
   ]
  },
  {
   "cell_type": "code",
   "execution_count": 23,
   "id": "f84d7895",
   "metadata": {
    "execution": {
     "iopub.execute_input": "2022-06-05T07:09:33.568275Z",
     "iopub.status.busy": "2022-06-05T07:09:33.567990Z",
     "iopub.status.idle": "2022-06-05T07:09:33.575860Z",
     "shell.execute_reply": "2022-06-05T07:09:33.575225Z"
    },
    "papermill": {
     "duration": 0.03005,
     "end_time": "2022-06-05T07:09:33.577431",
     "exception": false,
     "start_time": "2022-06-05T07:09:33.547381",
     "status": "completed"
    },
    "tags": []
   },
   "outputs": [],
   "source": [
    "df = df[df.Languagereveiw!='Unknown'] #removing unkown languages"
   ]
  },
  {
   "cell_type": "code",
   "execution_count": 24,
   "id": "3fe20fc6",
   "metadata": {
    "execution": {
     "iopub.execute_input": "2022-06-05T07:09:33.618419Z",
     "iopub.status.busy": "2022-06-05T07:09:33.617778Z",
     "iopub.status.idle": "2022-06-05T07:09:33.622592Z",
     "shell.execute_reply": "2022-06-05T07:09:33.621864Z"
    },
    "papermill": {
     "duration": 0.027231,
     "end_time": "2022-06-05T07:09:33.624292",
     "exception": false,
     "start_time": "2022-06-05T07:09:33.597061",
     "status": "completed"
    },
    "tags": []
   },
   "outputs": [
    {
     "data": {
      "text/plain": [
       "(6390, 2)"
      ]
     },
     "execution_count": 24,
     "metadata": {},
     "output_type": "execute_result"
    }
   ],
   "source": [
    "df.shape"
   ]
  },
  {
   "cell_type": "code",
   "execution_count": 25,
   "id": "76e8630b",
   "metadata": {
    "execution": {
     "iopub.execute_input": "2022-06-05T07:09:33.666561Z",
     "iopub.status.busy": "2022-06-05T07:09:33.665818Z",
     "iopub.status.idle": "2022-06-05T07:09:33.669941Z",
     "shell.execute_reply": "2022-06-05T07:09:33.669248Z"
    },
    "papermill": {
     "duration": 0.027162,
     "end_time": "2022-06-05T07:09:33.671637",
     "exception": false,
     "start_time": "2022-06-05T07:09:33.644475",
     "status": "completed"
    },
    "tags": []
   },
   "outputs": [],
   "source": [
    "from json import loads\n",
    "from requests import get"
   ]
  },
  {
   "cell_type": "code",
   "execution_count": 26,
   "id": "cb159744",
   "metadata": {
    "execution": {
     "iopub.execute_input": "2022-06-05T07:09:33.715216Z",
     "iopub.status.busy": "2022-06-05T07:09:33.714475Z",
     "iopub.status.idle": "2022-06-05T07:09:33.718156Z",
     "shell.execute_reply": "2022-06-05T07:09:33.717422Z"
    },
    "papermill": {
     "duration": 0.02721,
     "end_time": "2022-06-05T07:09:33.719789",
     "exception": false,
     "start_time": "2022-06-05T07:09:33.692579",
     "status": "completed"
    },
    "tags": []
   },
   "outputs": [],
   "source": [
    "# We will now use get request to translate the reviews to english and create new column, Review_en"
   ]
  },
  {
   "cell_type": "code",
   "execution_count": 27,
   "id": "7ed8297c",
   "metadata": {
    "execution": {
     "iopub.execute_input": "2022-06-05T07:09:33.761253Z",
     "iopub.status.busy": "2022-06-05T07:09:33.760627Z",
     "iopub.status.idle": "2022-06-05T07:25:27.828514Z",
     "shell.execute_reply": "2022-06-05T07:25:27.827374Z"
    },
    "papermill": {
     "duration": 954.091364,
     "end_time": "2022-06-05T07:25:27.831355",
     "exception": false,
     "start_time": "2022-06-05T07:09:33.739991",
     "status": "completed"
    },
    "tags": []
   },
   "outputs": [],
   "source": [
    "for index, row in df['Review'].iteritems():\n",
    "    try:\n",
    "        src = df['Languagereveiw'][index]\n",
    "        request_result = get(\"https://translate.googleapis.com/translate_a/single?client=gtx&dt=t&sl=\"+src+\"&tl=en&q=\"+row)\n",
    "        translated_text = loads(request_result.text)[0][0][0]\n",
    "    except:\n",
    "        translated_text = np.nan\n",
    "    df.loc[index, 'Review_en'] = translated_text"
   ]
  },
  {
   "cell_type": "code",
   "execution_count": 28,
   "id": "dd11120f",
   "metadata": {
    "execution": {
     "iopub.execute_input": "2022-06-05T07:25:27.879633Z",
     "iopub.status.busy": "2022-06-05T07:25:27.879264Z",
     "iopub.status.idle": "2022-06-05T07:25:27.888896Z",
     "shell.execute_reply": "2022-06-05T07:25:27.888074Z"
    },
    "papermill": {
     "duration": 0.035656,
     "end_time": "2022-06-05T07:25:27.891640",
     "exception": false,
     "start_time": "2022-06-05T07:25:27.855984",
     "status": "completed"
    },
    "tags": []
   },
   "outputs": [
    {
     "data": {
      "text/html": [
       "<div>\n",
       "<style scoped>\n",
       "    .dataframe tbody tr th:only-of-type {\n",
       "        vertical-align: middle;\n",
       "    }\n",
       "\n",
       "    .dataframe tbody tr th {\n",
       "        vertical-align: top;\n",
       "    }\n",
       "\n",
       "    .dataframe thead th {\n",
       "        text-align: right;\n",
       "    }\n",
       "</style>\n",
       "<table border=\"1\" class=\"dataframe\">\n",
       "  <thead>\n",
       "    <tr style=\"text-align: right;\">\n",
       "      <th></th>\n",
       "      <th>Review</th>\n",
       "      <th>Languagereveiw</th>\n",
       "      <th>Review_en</th>\n",
       "    </tr>\n",
       "  </thead>\n",
       "  <tbody>\n",
       "    <tr>\n",
       "      <th>0</th>\n",
       "      <td>I was very impressed with the resort Great sta...</td>\n",
       "      <td>en</td>\n",
       "      <td>I was very impressed with the resort Great sta...</td>\n",
       "    </tr>\n",
       "    <tr>\n",
       "      <th>1</th>\n",
       "      <td>The rooms were nice the outside needs work als...</td>\n",
       "      <td>en</td>\n",
       "      <td>The rooms were nice the outside needs work als...</td>\n",
       "    </tr>\n",
       "    <tr>\n",
       "      <th>2</th>\n",
       "      <td>Great location I have stayed at this hotel on ...</td>\n",
       "      <td>en</td>\n",
       "      <td>Great location I have stayed at this hotel on ...</td>\n",
       "    </tr>\n",
       "    <tr>\n",
       "      <th>3</th>\n",
       "      <td>The hotel was adequate for my stay The strips ...</td>\n",
       "      <td>en</td>\n",
       "      <td>The hotel was adequate for my stay The strips ...</td>\n",
       "    </tr>\n",
       "    <tr>\n",
       "      <th>4</th>\n",
       "      <td>Great location room was large and spacious Par...</td>\n",
       "      <td>en</td>\n",
       "      <td>Great location room was large and spacious Par...</td>\n",
       "    </tr>\n",
       "  </tbody>\n",
       "</table>\n",
       "</div>"
      ],
      "text/plain": [
       "                                              Review Languagereveiw  \\\n",
       "0  I was very impressed with the resort Great sta...             en   \n",
       "1  The rooms were nice the outside needs work als...             en   \n",
       "2  Great location I have stayed at this hotel on ...             en   \n",
       "3  The hotel was adequate for my stay The strips ...             en   \n",
       "4  Great location room was large and spacious Par...             en   \n",
       "\n",
       "                                           Review_en  \n",
       "0  I was very impressed with the resort Great sta...  \n",
       "1  The rooms were nice the outside needs work als...  \n",
       "2  Great location I have stayed at this hotel on ...  \n",
       "3  The hotel was adequate for my stay The strips ...  \n",
       "4  Great location room was large and spacious Par...  "
      ]
     },
     "execution_count": 28,
     "metadata": {},
     "output_type": "execute_result"
    }
   ],
   "source": [
    "df.head()"
   ]
  },
  {
   "cell_type": "code",
   "execution_count": 29,
   "id": "70a2253b",
   "metadata": {
    "execution": {
     "iopub.execute_input": "2022-06-05T07:25:27.933854Z",
     "iopub.status.busy": "2022-06-05T07:25:27.933577Z",
     "iopub.status.idle": "2022-06-05T07:25:27.937047Z",
     "shell.execute_reply": "2022-06-05T07:25:27.936260Z"
    },
    "papermill": {
     "duration": 0.027136,
     "end_time": "2022-06-05T07:25:27.939168",
     "exception": false,
     "start_time": "2022-06-05T07:25:27.912032",
     "status": "completed"
    },
    "tags": []
   },
   "outputs": [],
   "source": [
    "# We now need to convert all the review to lower case for better analysis"
   ]
  },
  {
   "cell_type": "code",
   "execution_count": 30,
   "id": "255c876f",
   "metadata": {
    "execution": {
     "iopub.execute_input": "2022-06-05T07:25:27.981114Z",
     "iopub.status.busy": "2022-06-05T07:25:27.980815Z",
     "iopub.status.idle": "2022-06-05T07:25:27.991572Z",
     "shell.execute_reply": "2022-06-05T07:25:27.990874Z"
    },
    "papermill": {
     "duration": 0.033695,
     "end_time": "2022-06-05T07:25:27.993349",
     "exception": false,
     "start_time": "2022-06-05T07:25:27.959654",
     "status": "completed"
    },
    "tags": []
   },
   "outputs": [],
   "source": [
    "df['Review_en'] = df['Review_en'].str.lower()"
   ]
  },
  {
   "cell_type": "code",
   "execution_count": 31,
   "id": "20517e6e",
   "metadata": {
    "execution": {
     "iopub.execute_input": "2022-06-05T07:25:28.035043Z",
     "iopub.status.busy": "2022-06-05T07:25:28.034780Z",
     "iopub.status.idle": "2022-06-05T07:25:28.044648Z",
     "shell.execute_reply": "2022-06-05T07:25:28.043882Z"
    },
    "papermill": {
     "duration": 0.033028,
     "end_time": "2022-06-05T07:25:28.046493",
     "exception": false,
     "start_time": "2022-06-05T07:25:28.013465",
     "status": "completed"
    },
    "tags": []
   },
   "outputs": [
    {
     "data": {
      "text/html": [
       "<div>\n",
       "<style scoped>\n",
       "    .dataframe tbody tr th:only-of-type {\n",
       "        vertical-align: middle;\n",
       "    }\n",
       "\n",
       "    .dataframe tbody tr th {\n",
       "        vertical-align: top;\n",
       "    }\n",
       "\n",
       "    .dataframe thead th {\n",
       "        text-align: right;\n",
       "    }\n",
       "</style>\n",
       "<table border=\"1\" class=\"dataframe\">\n",
       "  <thead>\n",
       "    <tr style=\"text-align: right;\">\n",
       "      <th></th>\n",
       "      <th>Review</th>\n",
       "      <th>Languagereveiw</th>\n",
       "      <th>Review_en</th>\n",
       "    </tr>\n",
       "  </thead>\n",
       "  <tbody>\n",
       "    <tr>\n",
       "      <th>0</th>\n",
       "      <td>I was very impressed with the resort Great sta...</td>\n",
       "      <td>en</td>\n",
       "      <td>i was very impressed with the resort great sta...</td>\n",
       "    </tr>\n",
       "    <tr>\n",
       "      <th>1</th>\n",
       "      <td>The rooms were nice the outside needs work als...</td>\n",
       "      <td>en</td>\n",
       "      <td>the rooms were nice the outside needs work als...</td>\n",
       "    </tr>\n",
       "    <tr>\n",
       "      <th>2</th>\n",
       "      <td>Great location I have stayed at this hotel on ...</td>\n",
       "      <td>en</td>\n",
       "      <td>great location i have stayed at this hotel on ...</td>\n",
       "    </tr>\n",
       "    <tr>\n",
       "      <th>3</th>\n",
       "      <td>The hotel was adequate for my stay The strips ...</td>\n",
       "      <td>en</td>\n",
       "      <td>the hotel was adequate for my stay the strips ...</td>\n",
       "    </tr>\n",
       "    <tr>\n",
       "      <th>4</th>\n",
       "      <td>Great location room was large and spacious Par...</td>\n",
       "      <td>en</td>\n",
       "      <td>great location room was large and spacious par...</td>\n",
       "    </tr>\n",
       "  </tbody>\n",
       "</table>\n",
       "</div>"
      ],
      "text/plain": [
       "                                              Review Languagereveiw  \\\n",
       "0  I was very impressed with the resort Great sta...             en   \n",
       "1  The rooms were nice the outside needs work als...             en   \n",
       "2  Great location I have stayed at this hotel on ...             en   \n",
       "3  The hotel was adequate for my stay The strips ...             en   \n",
       "4  Great location room was large and spacious Par...             en   \n",
       "\n",
       "                                           Review_en  \n",
       "0  i was very impressed with the resort great sta...  \n",
       "1  the rooms were nice the outside needs work als...  \n",
       "2  great location i have stayed at this hotel on ...  \n",
       "3  the hotel was adequate for my stay the strips ...  \n",
       "4  great location room was large and spacious par...  "
      ]
     },
     "execution_count": 31,
     "metadata": {},
     "output_type": "execute_result"
    }
   ],
   "source": [
    "df.head()"
   ]
  },
  {
   "cell_type": "markdown",
   "id": "a8cdeba3",
   "metadata": {
    "papermill": {
     "duration": 0.020355,
     "end_time": "2022-06-05T07:25:28.087817",
     "exception": false,
     "start_time": "2022-06-05T07:25:28.067462",
     "status": "completed"
    },
    "tags": []
   },
   "source": [
    "# Using NLP Algorithms to determine sentiment of text"
   ]
  },
  {
   "cell_type": "markdown",
   "id": "41af819c",
   "metadata": {
    "papermill": {
     "duration": 0.01981,
     "end_time": "2022-06-05T07:25:28.127790",
     "exception": false,
     "start_time": "2022-06-05T07:25:28.107980",
     "status": "completed"
    },
    "tags": []
   },
   "source": [
    "## VADER APPROACH"
   ]
  },
  {
   "cell_type": "code",
   "execution_count": 32,
   "id": "c336770c",
   "metadata": {
    "execution": {
     "iopub.execute_input": "2022-06-05T07:25:28.169890Z",
     "iopub.status.busy": "2022-06-05T07:25:28.169111Z",
     "iopub.status.idle": "2022-06-05T07:25:28.313892Z",
     "shell.execute_reply": "2022-06-05T07:25:28.312173Z"
    },
    "papermill": {
     "duration": 0.169818,
     "end_time": "2022-06-05T07:25:28.318043",
     "exception": false,
     "start_time": "2022-06-05T07:25:28.148225",
     "status": "completed"
    },
    "tags": []
   },
   "outputs": [
    {
     "name": "stdout",
     "output_type": "stream",
     "text": [
      "[nltk_data] Downloading package vader_lexicon to\n",
      "[nltk_data]     /usr/share/nltk_data...\n",
      "[nltk_data]   Package vader_lexicon is already up-to-date!\n"
     ]
    },
    {
     "name": "stderr",
     "output_type": "stream",
     "text": [
      "/opt/conda/lib/python3.7/site-packages/nltk/twitter/__init__.py:20: UserWarning: The twython library has not been installed. Some functionality from the twitter package will not be available.\n",
      "  warnings.warn(\"The twython library has not been installed. \"\n"
     ]
    },
    {
     "data": {
      "text/plain": [
       "True"
      ]
     },
     "execution_count": 32,
     "metadata": {},
     "output_type": "execute_result"
    }
   ],
   "source": [
    "from nltk.sentiment import SentimentIntensityAnalyzer\n",
    "from tqdm.notebook import tqdm\n",
    "nltk.downloader.download('vader_lexicon')"
   ]
  },
  {
   "cell_type": "markdown",
   "id": "ac0148e6",
   "metadata": {
    "papermill": {
     "duration": 0.04081,
     "end_time": "2022-06-05T07:25:28.405931",
     "exception": false,
     "start_time": "2022-06-05T07:25:28.365121",
     "status": "completed"
    },
    "tags": []
   },
   "source": []
  },
  {
   "cell_type": "code",
   "execution_count": 33,
   "id": "c9301621",
   "metadata": {
    "execution": {
     "iopub.execute_input": "2022-06-05T07:25:28.473988Z",
     "iopub.status.busy": "2022-06-05T07:25:28.473424Z",
     "iopub.status.idle": "2022-06-05T07:25:28.497425Z",
     "shell.execute_reply": "2022-06-05T07:25:28.496663Z"
    },
    "papermill": {
     "duration": 0.059926,
     "end_time": "2022-06-05T07:25:28.499142",
     "exception": false,
     "start_time": "2022-06-05T07:25:28.439216",
     "status": "completed"
    },
    "tags": []
   },
   "outputs": [],
   "source": [
    "senti = SentimentIntensityAnalyzer()"
   ]
  },
  {
   "cell_type": "code",
   "execution_count": 34,
   "id": "b2097340",
   "metadata": {
    "execution": {
     "iopub.execute_input": "2022-06-05T07:25:28.566091Z",
     "iopub.status.busy": "2022-06-05T07:25:28.565492Z",
     "iopub.status.idle": "2022-06-05T07:25:41.636942Z",
     "shell.execute_reply": "2022-06-05T07:25:41.636183Z"
    },
    "papermill": {
     "duration": 13.106883,
     "end_time": "2022-06-05T07:25:41.638971",
     "exception": false,
     "start_time": "2022-06-05T07:25:28.532088",
     "status": "completed"
    },
    "tags": []
   },
   "outputs": [],
   "source": [
    "df['neg'] = df['Review_en'].apply(lambda x:senti.polarity_scores(x)['neg'])\n",
    "df['neu'] = df['Review_en'].apply(lambda x:senti.polarity_scores(x)['neu'])\n",
    "df['pos'] = df['Review_en'].apply(lambda x:senti.polarity_scores(x)['pos'])\n",
    "df['comp'] = df['Review_en'].apply(lambda x:senti.polarity_scores(x)['compound'])"
   ]
  },
  {
   "cell_type": "code",
   "execution_count": 35,
   "id": "a04a1058",
   "metadata": {
    "execution": {
     "iopub.execute_input": "2022-06-05T07:25:41.680895Z",
     "iopub.status.busy": "2022-06-05T07:25:41.680613Z",
     "iopub.status.idle": "2022-06-05T07:25:41.693615Z",
     "shell.execute_reply": "2022-06-05T07:25:41.692804Z"
    },
    "papermill": {
     "duration": 0.035835,
     "end_time": "2022-06-05T07:25:41.695474",
     "exception": false,
     "start_time": "2022-06-05T07:25:41.659639",
     "status": "completed"
    },
    "tags": []
   },
   "outputs": [
    {
     "data": {
      "text/html": [
       "<div>\n",
       "<style scoped>\n",
       "    .dataframe tbody tr th:only-of-type {\n",
       "        vertical-align: middle;\n",
       "    }\n",
       "\n",
       "    .dataframe tbody tr th {\n",
       "        vertical-align: top;\n",
       "    }\n",
       "\n",
       "    .dataframe thead th {\n",
       "        text-align: right;\n",
       "    }\n",
       "</style>\n",
       "<table border=\"1\" class=\"dataframe\">\n",
       "  <thead>\n",
       "    <tr style=\"text-align: right;\">\n",
       "      <th></th>\n",
       "      <th>Review</th>\n",
       "      <th>Languagereveiw</th>\n",
       "      <th>Review_en</th>\n",
       "      <th>neg</th>\n",
       "      <th>neu</th>\n",
       "      <th>pos</th>\n",
       "      <th>comp</th>\n",
       "    </tr>\n",
       "  </thead>\n",
       "  <tbody>\n",
       "    <tr>\n",
       "      <th>0</th>\n",
       "      <td>I was very impressed with the resort Great sta...</td>\n",
       "      <td>en</td>\n",
       "      <td>i was very impressed with the resort great sta...</td>\n",
       "      <td>0.000</td>\n",
       "      <td>0.617</td>\n",
       "      <td>0.383</td>\n",
       "      <td>0.9359</td>\n",
       "    </tr>\n",
       "    <tr>\n",
       "      <th>1</th>\n",
       "      <td>The rooms were nice the outside needs work als...</td>\n",
       "      <td>en</td>\n",
       "      <td>the rooms were nice the outside needs work als...</td>\n",
       "      <td>0.075</td>\n",
       "      <td>0.546</td>\n",
       "      <td>0.379</td>\n",
       "      <td>0.8360</td>\n",
       "    </tr>\n",
       "    <tr>\n",
       "      <th>2</th>\n",
       "      <td>Great location I have stayed at this hotel on ...</td>\n",
       "      <td>en</td>\n",
       "      <td>great location i have stayed at this hotel on ...</td>\n",
       "      <td>0.000</td>\n",
       "      <td>0.773</td>\n",
       "      <td>0.227</td>\n",
       "      <td>0.6249</td>\n",
       "    </tr>\n",
       "    <tr>\n",
       "      <th>3</th>\n",
       "      <td>The hotel was adequate for my stay The strips ...</td>\n",
       "      <td>en</td>\n",
       "      <td>the hotel was adequate for my stay the strips ...</td>\n",
       "      <td>0.077</td>\n",
       "      <td>0.817</td>\n",
       "      <td>0.107</td>\n",
       "      <td>0.3634</td>\n",
       "    </tr>\n",
       "    <tr>\n",
       "      <th>4</th>\n",
       "      <td>Great location room was large and spacious Par...</td>\n",
       "      <td>en</td>\n",
       "      <td>great location room was large and spacious par...</td>\n",
       "      <td>0.000</td>\n",
       "      <td>0.471</td>\n",
       "      <td>0.529</td>\n",
       "      <td>0.9260</td>\n",
       "    </tr>\n",
       "  </tbody>\n",
       "</table>\n",
       "</div>"
      ],
      "text/plain": [
       "                                              Review Languagereveiw  \\\n",
       "0  I was very impressed with the resort Great sta...             en   \n",
       "1  The rooms were nice the outside needs work als...             en   \n",
       "2  Great location I have stayed at this hotel on ...             en   \n",
       "3  The hotel was adequate for my stay The strips ...             en   \n",
       "4  Great location room was large and spacious Par...             en   \n",
       "\n",
       "                                           Review_en    neg    neu    pos  \\\n",
       "0  i was very impressed with the resort great sta...  0.000  0.617  0.383   \n",
       "1  the rooms were nice the outside needs work als...  0.075  0.546  0.379   \n",
       "2  great location i have stayed at this hotel on ...  0.000  0.773  0.227   \n",
       "3  the hotel was adequate for my stay the strips ...  0.077  0.817  0.107   \n",
       "4  great location room was large and spacious par...  0.000  0.471  0.529   \n",
       "\n",
       "     comp  \n",
       "0  0.9359  \n",
       "1  0.8360  \n",
       "2  0.6249  \n",
       "3  0.3634  \n",
       "4  0.9260  "
      ]
     },
     "execution_count": 35,
     "metadata": {},
     "output_type": "execute_result"
    }
   ],
   "source": [
    "df.head()"
   ]
  },
  {
   "cell_type": "code",
   "execution_count": 36,
   "id": "0406a6e6",
   "metadata": {
    "execution": {
     "iopub.execute_input": "2022-06-05T07:25:41.737441Z",
     "iopub.status.busy": "2022-06-05T07:25:41.737158Z",
     "iopub.status.idle": "2022-06-05T07:25:41.741570Z",
     "shell.execute_reply": "2022-06-05T07:25:41.740692Z"
    },
    "papermill": {
     "duration": 0.027374,
     "end_time": "2022-06-05T07:25:41.743417",
     "exception": false,
     "start_time": "2022-06-05T07:25:41.716043",
     "status": "completed"
    },
    "tags": []
   },
   "outputs": [],
   "source": [
    "def sentia(x):\n",
    "    if x>=0.05:\n",
    "        return 'pos'\n",
    "    elif x<0.05 and x>-0.05:\n",
    "        return 'neu'\n",
    "    else:\n",
    "        return 'neg'"
   ]
  },
  {
   "cell_type": "code",
   "execution_count": 37,
   "id": "95cedfac",
   "metadata": {
    "execution": {
     "iopub.execute_input": "2022-06-05T07:25:41.785248Z",
     "iopub.status.busy": "2022-06-05T07:25:41.784969Z",
     "iopub.status.idle": "2022-06-05T07:25:41.791861Z",
     "shell.execute_reply": "2022-06-05T07:25:41.791189Z"
    },
    "papermill": {
     "duration": 0.029632,
     "end_time": "2022-06-05T07:25:41.793508",
     "exception": false,
     "start_time": "2022-06-05T07:25:41.763876",
     "status": "completed"
    },
    "tags": []
   },
   "outputs": [],
   "source": [
    "df['Sentiment'] = df['comp'].apply(lambda x: sentia(x))"
   ]
  },
  {
   "cell_type": "code",
   "execution_count": 38,
   "id": "1117cc91",
   "metadata": {
    "execution": {
     "iopub.execute_input": "2022-06-05T07:25:41.835489Z",
     "iopub.status.busy": "2022-06-05T07:25:41.835243Z",
     "iopub.status.idle": "2022-06-05T07:25:41.848811Z",
     "shell.execute_reply": "2022-06-05T07:25:41.848087Z"
    },
    "papermill": {
     "duration": 0.036638,
     "end_time": "2022-06-05T07:25:41.850571",
     "exception": false,
     "start_time": "2022-06-05T07:25:41.813933",
     "status": "completed"
    },
    "tags": []
   },
   "outputs": [
    {
     "data": {
      "text/html": [
       "<div>\n",
       "<style scoped>\n",
       "    .dataframe tbody tr th:only-of-type {\n",
       "        vertical-align: middle;\n",
       "    }\n",
       "\n",
       "    .dataframe tbody tr th {\n",
       "        vertical-align: top;\n",
       "    }\n",
       "\n",
       "    .dataframe thead th {\n",
       "        text-align: right;\n",
       "    }\n",
       "</style>\n",
       "<table border=\"1\" class=\"dataframe\">\n",
       "  <thead>\n",
       "    <tr style=\"text-align: right;\">\n",
       "      <th></th>\n",
       "      <th>Review</th>\n",
       "      <th>Languagereveiw</th>\n",
       "      <th>Review_en</th>\n",
       "      <th>neg</th>\n",
       "      <th>neu</th>\n",
       "      <th>pos</th>\n",
       "      <th>comp</th>\n",
       "      <th>Sentiment</th>\n",
       "    </tr>\n",
       "  </thead>\n",
       "  <tbody>\n",
       "    <tr>\n",
       "      <th>0</th>\n",
       "      <td>I was very impressed with the resort Great sta...</td>\n",
       "      <td>en</td>\n",
       "      <td>i was very impressed with the resort great sta...</td>\n",
       "      <td>0.000</td>\n",
       "      <td>0.617</td>\n",
       "      <td>0.383</td>\n",
       "      <td>0.9359</td>\n",
       "      <td>pos</td>\n",
       "    </tr>\n",
       "    <tr>\n",
       "      <th>1</th>\n",
       "      <td>The rooms were nice the outside needs work als...</td>\n",
       "      <td>en</td>\n",
       "      <td>the rooms were nice the outside needs work als...</td>\n",
       "      <td>0.075</td>\n",
       "      <td>0.546</td>\n",
       "      <td>0.379</td>\n",
       "      <td>0.8360</td>\n",
       "      <td>pos</td>\n",
       "    </tr>\n",
       "    <tr>\n",
       "      <th>2</th>\n",
       "      <td>Great location I have stayed at this hotel on ...</td>\n",
       "      <td>en</td>\n",
       "      <td>great location i have stayed at this hotel on ...</td>\n",
       "      <td>0.000</td>\n",
       "      <td>0.773</td>\n",
       "      <td>0.227</td>\n",
       "      <td>0.6249</td>\n",
       "      <td>pos</td>\n",
       "    </tr>\n",
       "    <tr>\n",
       "      <th>3</th>\n",
       "      <td>The hotel was adequate for my stay The strips ...</td>\n",
       "      <td>en</td>\n",
       "      <td>the hotel was adequate for my stay the strips ...</td>\n",
       "      <td>0.077</td>\n",
       "      <td>0.817</td>\n",
       "      <td>0.107</td>\n",
       "      <td>0.3634</td>\n",
       "      <td>pos</td>\n",
       "    </tr>\n",
       "    <tr>\n",
       "      <th>4</th>\n",
       "      <td>Great location room was large and spacious Par...</td>\n",
       "      <td>en</td>\n",
       "      <td>great location room was large and spacious par...</td>\n",
       "      <td>0.000</td>\n",
       "      <td>0.471</td>\n",
       "      <td>0.529</td>\n",
       "      <td>0.9260</td>\n",
       "      <td>pos</td>\n",
       "    </tr>\n",
       "  </tbody>\n",
       "</table>\n",
       "</div>"
      ],
      "text/plain": [
       "                                              Review Languagereveiw  \\\n",
       "0  I was very impressed with the resort Great sta...             en   \n",
       "1  The rooms were nice the outside needs work als...             en   \n",
       "2  Great location I have stayed at this hotel on ...             en   \n",
       "3  The hotel was adequate for my stay The strips ...             en   \n",
       "4  Great location room was large and spacious Par...             en   \n",
       "\n",
       "                                           Review_en    neg    neu    pos  \\\n",
       "0  i was very impressed with the resort great sta...  0.000  0.617  0.383   \n",
       "1  the rooms were nice the outside needs work als...  0.075  0.546  0.379   \n",
       "2  great location i have stayed at this hotel on ...  0.000  0.773  0.227   \n",
       "3  the hotel was adequate for my stay the strips ...  0.077  0.817  0.107   \n",
       "4  great location room was large and spacious par...  0.000  0.471  0.529   \n",
       "\n",
       "     comp Sentiment  \n",
       "0  0.9359       pos  \n",
       "1  0.8360       pos  \n",
       "2  0.6249       pos  \n",
       "3  0.3634       pos  \n",
       "4  0.9260       pos  "
      ]
     },
     "execution_count": 38,
     "metadata": {},
     "output_type": "execute_result"
    }
   ],
   "source": [
    "df.head()"
   ]
  },
  {
   "cell_type": "markdown",
   "id": "e1528214",
   "metadata": {
    "papermill": {
     "duration": 0.0208,
     "end_time": "2022-06-05T07:25:41.892296",
     "exception": false,
     "start_time": "2022-06-05T07:25:41.871496",
     "status": "completed"
    },
    "tags": []
   },
   "source": []
  },
  {
   "cell_type": "markdown",
   "id": "ec2df13d",
   "metadata": {
    "papermill": {
     "duration": 0.020708,
     "end_time": "2022-06-05T07:25:41.933739",
     "exception": false,
     "start_time": "2022-06-05T07:25:41.913031",
     "status": "completed"
    },
    "tags": []
   },
   "source": [
    "## Insight 1: Number of positive, neutral and negative reviews"
   ]
  },
  {
   "cell_type": "code",
   "execution_count": 39,
   "id": "217c55ba",
   "metadata": {
    "execution": {
     "iopub.execute_input": "2022-06-05T07:25:41.976996Z",
     "iopub.status.busy": "2022-06-05T07:25:41.976732Z",
     "iopub.status.idle": "2022-06-05T07:25:42.151108Z",
     "shell.execute_reply": "2022-06-05T07:25:42.150252Z"
    },
    "papermill": {
     "duration": 0.198347,
     "end_time": "2022-06-05T07:25:42.153651",
     "exception": false,
     "start_time": "2022-06-05T07:25:41.955304",
     "status": "completed"
    },
    "tags": []
   },
   "outputs": [
    {
     "data": {
      "text/plain": [
       "<AxesSubplot:xlabel='Sentiment', ylabel='count'>"
      ]
     },
     "execution_count": 39,
     "metadata": {},
     "output_type": "execute_result"
    },
    {
     "data": {
      "image/png": "[encoded data removed]",
      "text/plain": [
       "<Figure size 432x288 with 1 Axes>"
      ]
     },
     "metadata": {},
     "output_type": "display_data"
    }
   ],
   "source": [
    "sns.countplot(x='Sentiment',data=df)"
   ]
  },
  {
   "cell_type": "markdown",
   "id": "993f344b",
   "metadata": {
    "papermill": {
     "duration": 0.021888,
     "end_time": "2022-06-05T07:25:42.208002",
     "exception": false,
     "start_time": "2022-06-05T07:25:42.186114",
     "status": "completed"
    },
    "tags": []
   },
   "source": []
  },
  {
   "cell_type": "markdown",
   "id": "140191bb",
   "metadata": {
    "papermill": {
     "duration": 0.021886,
     "end_time": "2022-06-05T07:25:42.250993",
     "exception": false,
     "start_time": "2022-06-05T07:25:42.229107",
     "status": "completed"
    },
    "tags": []
   },
   "source": [
    "## Insight 2: Hotel words used in reviews"
   ]
  },
  {
   "cell_type": "code",
   "execution_count": 40,
   "id": "147ecf93",
   "metadata": {
    "execution": {
     "iopub.execute_input": "2022-06-05T07:25:42.294061Z",
     "iopub.status.busy": "2022-06-05T07:25:42.293737Z",
     "iopub.status.idle": "2022-06-05T07:25:57.648519Z",
     "shell.execute_reply": "2022-06-05T07:25:57.647534Z"
    },
    "papermill": {
     "duration": 15.378757,
     "end_time": "2022-06-05T07:25:57.650672",
     "exception": false,
     "start_time": "2022-06-05T07:25:42.271915",
     "status": "completed"
    },
    "tags": []
   },
   "outputs": [
    {
     "name": "stdout",
     "output_type": "stream",
     "text": [
      "Requirement already satisfied: spacy in /opt/conda/lib/python3.7/site-packages (3.2.4)\r\n",
      "Requirement already satisfied: wasabi<1.1.0,>=0.8.1 in /opt/conda/lib/python3.7/site-packages (from spacy) (0.9.1)\r\n",
      "Collecting typing-extensions<4.0.0.0,>=3.7.4\r\n",
      "  Downloading typing_extensions-3.10.0.2-py3-none-any.whl (26 kB)\r\n",
      "Requirement already satisfied: murmurhash<1.1.0,>=0.28.0 in /opt/conda/lib/python3.7/site-packages (from spacy) (1.0.7)\r\n",
      "Requirement already satisfied: spacy-legacy<3.1.0,>=3.0.8 in /opt/conda/lib/python3.7/site-packages (from spacy) (3.0.9)\r\n",
      "Requirement already satisfied: tqdm<5.0.0,>=4.38.0 in /opt/conda/lib/python3.7/site-packages (from spacy) (4.64.0)\r\n",
      "Requirement already satisfied: cymem<2.1.0,>=2.0.2 in /opt/conda/lib/python3.7/site-packages (from spacy) (2.0.6)\r\n",
      "Requirement already satisfied: langcodes<4.0.0,>=3.2.0 in /opt/conda/lib/python3.7/site-packages (from spacy) (3.3.0)\r\n",
      "Requirement already satisfied: spacy-loggers<2.0.0,>=1.0.0 in /opt/conda/lib/python3.7/site-packages (from spacy) (1.0.2)\r\n",
      "Requirement already satisfied: catalogue<2.1.0,>=2.0.6 in /opt/conda/lib/python3.7/site-packages (from spacy) (2.0.7)\r\n",
      "Requirement already satisfied: typer<0.5.0,>=0.3.0 in /opt/conda/lib/python3.7/site-packages (from spacy) (0.4.1)\r\n",
      "Requirement already satisfied: blis<0.8.0,>=0.4.0 in /opt/conda/lib/python3.7/site-packages (from spacy) (0.7.7)\r\n",
      "Requirement already satisfied: preshed<3.1.0,>=3.0.2 in /opt/conda/lib/python3.7/site-packages (from spacy) (3.0.6)\r\n",
      "Requirement already satisfied: pathy>=0.3.5 in /opt/conda/lib/python3.7/site-packages (from spacy) (0.6.1)\r\n",
      "Requirement already satisfied: packaging>=20.0 in /opt/conda/lib/python3.7/site-packages (from spacy) (21.3)\r\n",
      "Requirement already satisfied: thinc<8.1.0,>=8.0.12 in /opt/conda/lib/python3.7/site-packages (from spacy) (8.0.16)\r\n",
      "Requirement already satisfied: jinja2 in /opt/conda/lib/python3.7/site-packages (from spacy) (3.1.2)\r\n",
      "Requirement already satisfied: setuptools in /opt/conda/lib/python3.7/site-packages (from spacy) (59.8.0)\r\n",
      "Requirement already satisfied: srsly<3.0.0,>=2.4.1 in /opt/conda/lib/python3.7/site-packages (from spacy) (2.4.3)\r\n",
      "Requirement already satisfied: pydantic!=1.8,!=1.8.1,<1.9.0,>=1.7.4 in /opt/conda/lib/python3.7/site-packages (from spacy) (1.8.2)\r\n",
      "Requirement already satisfied: click<8.1.0 in /opt/conda/lib/python3.7/site-packages (from spacy) (8.0.4)\r\n",
      "Requirement already satisfied: requests<3.0.0,>=2.13.0 in /opt/conda/lib/python3.7/site-packages (from spacy) (2.27.1)\r\n",
      "Requirement already satisfied: numpy>=1.15.0 in /opt/conda/lib/python3.7/site-packages (from spacy) (1.21.6)\r\n",
      "Requirement already satisfied: zipp>=0.5 in /opt/conda/lib/python3.7/site-packages (from catalogue<2.1.0,>=2.0.6->spacy) (3.8.0)\r\n",
      "Requirement already satisfied: importlib-metadata in /opt/conda/lib/python3.7/site-packages (from click<8.1.0->spacy) (4.11.4)\r\n",
      "Requirement already satisfied: pyparsing!=3.0.5,>=2.0.2 in /opt/conda/lib/python3.7/site-packages (from packaging>=20.0->spacy) (3.0.9)\r\n",
      "Requirement already satisfied: smart-open<6.0.0,>=5.0.0 in /opt/conda/lib/python3.7/site-packages (from pathy>=0.3.5->spacy) (5.2.1)\r\n",
      "Requirement already satisfied: certifi>=2017.4.17 in /opt/conda/lib/python3.7/site-packages (from requests<3.0.0,>=2.13.0->spacy) (2022.5.18.1)\r\n",
      "Requirement already satisfied: charset-normalizer~=2.0.0 in /opt/conda/lib/python3.7/site-packages (from requests<3.0.0,>=2.13.0->spacy) (2.0.12)\r\n",
      "Requirement already satisfied: urllib3<1.27,>=1.21.1 in /opt/conda/lib/python3.7/site-packages (from requests<3.0.0,>=2.13.0->spacy) (1.26.9)\r\n",
      "Requirement already satisfied: idna<4,>=2.5 in /opt/conda/lib/python3.7/site-packages (from requests<3.0.0,>=2.13.0->spacy) (3.3)\r\n",
      "Requirement already satisfied: MarkupSafe>=2.0 in /opt/conda/lib/python3.7/site-packages (from jinja2->spacy) (2.0.1)\r\n",
      "Installing collected packages: typing-extensions\r\n",
      "  Attempting uninstall: typing-extensions\r\n",
      "    Found existing installation: typing_extensions 4.2.0\r\n",
      "    Uninstalling typing_extensions-4.2.0:\r\n",
      "      Successfully uninstalled typing_extensions-4.2.0\r\n",
      "\u001b[31mERROR: pip's dependency resolver does not currently take into account all the packages that are installed. This behaviour is the source of the following dependency conflicts.\r\n",
      "tensorflow-io 0.21.0 requires tensorflow-io-gcs-filesystem==0.21.0, which is not installed.\r\n",
      "tensorflow 2.6.4 requires absl-py~=0.10, but you have absl-py 1.0.0 which is incompatible.\r\n",
      "tensorflow 2.6.4 requires numpy~=1.19.2, but you have numpy 1.21.6 which is incompatible.\r\n",
      "tensorflow 2.6.4 requires six~=1.15.0, but you have six 1.16.0 which is incompatible.\r\n",
      "tensorflow 2.6.4 requires wrapt~=1.12.1, but you have wrapt 1.14.1 which is incompatible.\r\n",
      "tensorflow-transform 1.8.0 requires tensorflow!=2.0.*,!=2.1.*,!=2.2.*,!=2.3.*,!=2.4.*,!=2.5.*,!=2.6.*,!=2.7.*,<2.9,>=1.15.5, but you have tensorflow 2.6.4 which is incompatible.\r\n",
      "tensorflow-serving-api 2.8.0 requires tensorflow<3,>=2.8.0, but you have tensorflow 2.6.4 which is incompatible.\r\n",
      "rich 12.4.4 requires typing-extensions<5.0,>=4.0.0; python_version < \"3.9\", but you have typing-extensions 3.10.0.2 which is incompatible.\r\n",
      "pytorch-lightning 1.6.3 requires typing-extensions>=4.0.0, but you have typing-extensions 3.10.0.2 which is incompatible.\r\n",
      "pytools 2022.1.9 requires typing-extensions>=4.0; python_version < \"3.11\", but you have typing-extensions 3.10.0.2 which is incompatible.\r\n",
      "flax 0.5.0 requires typing-extensions>=4.1.1, but you have typing-extensions 3.10.0.2 which is incompatible.\r\n",
      "flake8 4.0.1 requires importlib-metadata<4.3; python_version < \"3.8\", but you have importlib-metadata 4.11.4 which is incompatible.\r\n",
      "apache-beam 2.38.0 requires dill<0.3.2,>=0.3.1.1, but you have dill 0.3.5.1 which is incompatible.\r\n",
      "apache-beam 2.38.0 requires httplib2<0.20.0,>=0.8, but you have httplib2 0.20.4 which is incompatible.\r\n",
      "aioitertools 0.10.0 requires typing_extensions>=4.0; python_version < \"3.10\", but you have typing-extensions 3.10.0.2 which is incompatible.\r\n",
      "aiobotocore 2.3.2 requires botocore<1.24.22,>=1.24.21, but you have botocore 1.26.7 which is incompatible.\u001b[0m\u001b[31m\r\n",
      "\u001b[0mSuccessfully installed typing-extensions-3.10.0.2\r\n",
      "\u001b[33mWARNING: Running pip as the 'root' user can result in broken permissions and conflicting behaviour with the system package manager. It is recommended to use a virtual environment instead: https://pip.pypa.io/warnings/venv\u001b[0m\u001b[33m\r\n",
      "\u001b[0m"
     ]
    }
   ],
   "source": [
    "!pip install spacy"
   ]
  },
  {
   "cell_type": "code",
   "execution_count": 41,
   "id": "973d4f60",
   "metadata": {
    "execution": {
     "iopub.execute_input": "2022-06-05T07:25:57.696860Z",
     "iopub.status.busy": "2022-06-05T07:25:57.696540Z",
     "iopub.status.idle": "2022-06-05T07:26:08.443420Z",
     "shell.execute_reply": "2022-06-05T07:26:08.442574Z"
    },
    "papermill": {
     "duration": 10.772435,
     "end_time": "2022-06-05T07:26:08.445506",
     "exception": false,
     "start_time": "2022-06-05T07:25:57.673071",
     "status": "completed"
    },
    "tags": []
   },
   "outputs": [],
   "source": [
    "import spacy\n",
    "nlp = spacy.load(\"en_core_web_sm\")"
   ]
  },
  {
   "cell_type": "code",
   "execution_count": 42,
   "id": "26343176",
   "metadata": {
    "execution": {
     "iopub.execute_input": "2022-06-05T07:26:08.491365Z",
     "iopub.status.busy": "2022-06-05T07:26:08.490785Z",
     "iopub.status.idle": "2022-06-05T07:27:15.375360Z",
     "shell.execute_reply": "2022-06-05T07:27:15.374486Z"
    },
    "papermill": {
     "duration": 66.909581,
     "end_time": "2022-06-05T07:27:15.377529",
     "exception": false,
     "start_time": "2022-06-05T07:26:08.467948",
     "status": "completed"
    },
    "tags": []
   },
   "outputs": [],
   "source": [
    "words_described = []\n",
    "for row in df['Review_en']:\n",
    "    dic = nlp(row)\n",
    "    target = ''\n",
    "    for token in dic:\n",
    "        if token.dep_ == 'nsubj' and token.pos_ == 'NOUN':\n",
    "            target = token.text\n",
    "    words_described.append(target)\n",
    "    \n"
   ]
  },
  {
   "cell_type": "code",
   "execution_count": 43,
   "id": "f3439fa1",
   "metadata": {
    "execution": {
     "iopub.execute_input": "2022-06-05T07:27:15.424509Z",
     "iopub.status.busy": "2022-06-05T07:27:15.424128Z",
     "iopub.status.idle": "2022-06-05T07:27:15.440082Z",
     "shell.execute_reply": "2022-06-05T07:27:15.439390Z"
    },
    "papermill": {
     "duration": 0.041473,
     "end_time": "2022-06-05T07:27:15.442084",
     "exception": false,
     "start_time": "2022-06-05T07:27:15.400611",
     "status": "completed"
    },
    "tags": []
   },
   "outputs": [
    {
     "data": {
      "text/html": [
       "<div>\n",
       "<style scoped>\n",
       "    .dataframe tbody tr th:only-of-type {\n",
       "        vertical-align: middle;\n",
       "    }\n",
       "\n",
       "    .dataframe tbody tr th {\n",
       "        vertical-align: top;\n",
       "    }\n",
       "\n",
       "    .dataframe thead th {\n",
       "        text-align: right;\n",
       "    }\n",
       "</style>\n",
       "<table border=\"1\" class=\"dataframe\">\n",
       "  <thead>\n",
       "    <tr style=\"text-align: right;\">\n",
       "      <th></th>\n",
       "      <th>Review</th>\n",
       "      <th>Languagereveiw</th>\n",
       "      <th>Review_en</th>\n",
       "      <th>neg</th>\n",
       "      <th>neu</th>\n",
       "      <th>pos</th>\n",
       "      <th>comp</th>\n",
       "      <th>Sentiment</th>\n",
       "      <th>described_place</th>\n",
       "    </tr>\n",
       "  </thead>\n",
       "  <tbody>\n",
       "    <tr>\n",
       "      <th>0</th>\n",
       "      <td>I was very impressed with the resort Great sta...</td>\n",
       "      <td>en</td>\n",
       "      <td>i was very impressed with the resort great sta...</td>\n",
       "      <td>0.000</td>\n",
       "      <td>0.617</td>\n",
       "      <td>0.383</td>\n",
       "      <td>0.9359</td>\n",
       "      <td>pos</td>\n",
       "      <td></td>\n",
       "    </tr>\n",
       "    <tr>\n",
       "      <th>1</th>\n",
       "      <td>The rooms were nice the outside needs work als...</td>\n",
       "      <td>en</td>\n",
       "      <td>the rooms were nice the outside needs work als...</td>\n",
       "      <td>0.075</td>\n",
       "      <td>0.546</td>\n",
       "      <td>0.379</td>\n",
       "      <td>0.8360</td>\n",
       "      <td>pos</td>\n",
       "      <td>outside</td>\n",
       "    </tr>\n",
       "    <tr>\n",
       "      <th>2</th>\n",
       "      <td>Great location I have stayed at this hotel on ...</td>\n",
       "      <td>en</td>\n",
       "      <td>great location i have stayed at this hotel on ...</td>\n",
       "      <td>0.000</td>\n",
       "      <td>0.773</td>\n",
       "      <td>0.227</td>\n",
       "      <td>0.6249</td>\n",
       "      <td>pos</td>\n",
       "      <td></td>\n",
       "    </tr>\n",
       "    <tr>\n",
       "      <th>3</th>\n",
       "      <td>The hotel was adequate for my stay The strips ...</td>\n",
       "      <td>en</td>\n",
       "      <td>the hotel was adequate for my stay the strips ...</td>\n",
       "      <td>0.077</td>\n",
       "      <td>0.817</td>\n",
       "      <td>0.107</td>\n",
       "      <td>0.3634</td>\n",
       "      <td>pos</td>\n",
       "      <td>breakfast</td>\n",
       "    </tr>\n",
       "    <tr>\n",
       "      <th>4</th>\n",
       "      <td>Great location room was large and spacious Par...</td>\n",
       "      <td>en</td>\n",
       "      <td>great location room was large and spacious par...</td>\n",
       "      <td>0.000</td>\n",
       "      <td>0.471</td>\n",
       "      <td>0.529</td>\n",
       "      <td>0.9260</td>\n",
       "      <td>pos</td>\n",
       "      <td>parking</td>\n",
       "    </tr>\n",
       "  </tbody>\n",
       "</table>\n",
       "</div>"
      ],
      "text/plain": [
       "                                              Review Languagereveiw  \\\n",
       "0  I was very impressed with the resort Great sta...             en   \n",
       "1  The rooms were nice the outside needs work als...             en   \n",
       "2  Great location I have stayed at this hotel on ...             en   \n",
       "3  The hotel was adequate for my stay The strips ...             en   \n",
       "4  Great location room was large and spacious Par...             en   \n",
       "\n",
       "                                           Review_en    neg    neu    pos  \\\n",
       "0  i was very impressed with the resort great sta...  0.000  0.617  0.383   \n",
       "1  the rooms were nice the outside needs work als...  0.075  0.546  0.379   \n",
       "2  great location i have stayed at this hotel on ...  0.000  0.773  0.227   \n",
       "3  the hotel was adequate for my stay the strips ...  0.077  0.817  0.107   \n",
       "4  great location room was large and spacious par...  0.000  0.471  0.529   \n",
       "\n",
       "     comp Sentiment described_place  \n",
       "0  0.9359       pos                  \n",
       "1  0.8360       pos         outside  \n",
       "2  0.6249       pos                  \n",
       "3  0.3634       pos       breakfast  \n",
       "4  0.9260       pos         parking  "
      ]
     },
     "execution_count": 43,
     "metadata": {},
     "output_type": "execute_result"
    }
   ],
   "source": [
    "df['described_place'] = words_described\n",
    "df.head()"
   ]
  },
  {
   "cell_type": "code",
   "execution_count": 44,
   "id": "86d9b326",
   "metadata": {
    "execution": {
     "iopub.execute_input": "2022-06-05T07:27:15.487571Z",
     "iopub.status.busy": "2022-06-05T07:27:15.487084Z",
     "iopub.status.idle": "2022-06-05T07:27:15.494339Z",
     "shell.execute_reply": "2022-06-05T07:27:15.493674Z"
    },
    "papermill": {
     "duration": 0.031699,
     "end_time": "2022-06-05T07:27:15.496079",
     "exception": false,
     "start_time": "2022-06-05T07:27:15.464380",
     "status": "completed"
    },
    "tags": []
   },
   "outputs": [],
   "source": [
    "df['described_place'] = df['described_place'].replace('beds','bed')\n",
    "df['described_place'] = df['described_place'].replace('rooms','room')"
   ]
  },
  {
   "cell_type": "code",
   "execution_count": 45,
   "id": "49657be3",
   "metadata": {
    "execution": {
     "iopub.execute_input": "2022-06-05T07:27:15.541662Z",
     "iopub.status.busy": "2022-06-05T07:27:15.541113Z",
     "iopub.status.idle": "2022-06-05T07:27:15.549565Z",
     "shell.execute_reply": "2022-06-05T07:27:15.548739Z"
    },
    "papermill": {
     "duration": 0.033167,
     "end_time": "2022-06-05T07:27:15.551659",
     "exception": false,
     "start_time": "2022-06-05T07:27:15.518492",
     "status": "completed"
    },
    "tags": []
   },
   "outputs": [
    {
     "data": {
      "text/plain": [
       "            1850\n",
       "room         633\n",
       "staff        415\n",
       "hotel        368\n",
       "location     241\n",
       "bed          100\n",
       "service       80\n",
       "property      74\n",
       "bathroom      62\n",
       "stay          61\n",
       "Name: described_place, dtype: int64"
      ]
     },
     "execution_count": 45,
     "metadata": {},
     "output_type": "execute_result"
    }
   ],
   "source": [
    "df['described_place'].value_counts().head(10)"
   ]
  },
  {
   "cell_type": "code",
   "execution_count": 46,
   "id": "020189c6",
   "metadata": {
    "execution": {
     "iopub.execute_input": "2022-06-05T07:27:15.597847Z",
     "iopub.status.busy": "2022-06-05T07:27:15.597598Z",
     "iopub.status.idle": "2022-06-05T07:27:15.611872Z",
     "shell.execute_reply": "2022-06-05T07:27:15.611070Z"
    },
    "papermill": {
     "duration": 0.038696,
     "end_time": "2022-06-05T07:27:15.613583",
     "exception": false,
     "start_time": "2022-06-05T07:27:15.574887",
     "status": "completed"
    },
    "tags": []
   },
   "outputs": [
    {
     "data": {
      "text/html": [
       "<div>\n",
       "<style scoped>\n",
       "    .dataframe tbody tr th:only-of-type {\n",
       "        vertical-align: middle;\n",
       "    }\n",
       "\n",
       "    .dataframe tbody tr th {\n",
       "        vertical-align: top;\n",
       "    }\n",
       "\n",
       "    .dataframe thead th {\n",
       "        text-align: right;\n",
       "    }\n",
       "</style>\n",
       "<table border=\"1\" class=\"dataframe\">\n",
       "  <thead>\n",
       "    <tr style=\"text-align: right;\">\n",
       "      <th></th>\n",
       "      <th>Review</th>\n",
       "      <th>Languagereveiw</th>\n",
       "      <th>Review_en</th>\n",
       "      <th>neg</th>\n",
       "      <th>neu</th>\n",
       "      <th>pos</th>\n",
       "      <th>comp</th>\n",
       "      <th>Sentiment</th>\n",
       "      <th>described_place</th>\n",
       "    </tr>\n",
       "  </thead>\n",
       "  <tbody>\n",
       "    <tr>\n",
       "      <th>0</th>\n",
       "      <td>I was very impressed with the resort Great sta...</td>\n",
       "      <td>en</td>\n",
       "      <td>i was very impressed with the resort great sta...</td>\n",
       "      <td>0.000</td>\n",
       "      <td>0.617</td>\n",
       "      <td>0.383</td>\n",
       "      <td>0.9359</td>\n",
       "      <td>pos</td>\n",
       "      <td></td>\n",
       "    </tr>\n",
       "    <tr>\n",
       "      <th>1</th>\n",
       "      <td>The rooms were nice the outside needs work als...</td>\n",
       "      <td>en</td>\n",
       "      <td>the rooms were nice the outside needs work als...</td>\n",
       "      <td>0.075</td>\n",
       "      <td>0.546</td>\n",
       "      <td>0.379</td>\n",
       "      <td>0.8360</td>\n",
       "      <td>pos</td>\n",
       "      <td>outside</td>\n",
       "    </tr>\n",
       "    <tr>\n",
       "      <th>2</th>\n",
       "      <td>Great location I have stayed at this hotel on ...</td>\n",
       "      <td>en</td>\n",
       "      <td>great location i have stayed at this hotel on ...</td>\n",
       "      <td>0.000</td>\n",
       "      <td>0.773</td>\n",
       "      <td>0.227</td>\n",
       "      <td>0.6249</td>\n",
       "      <td>pos</td>\n",
       "      <td></td>\n",
       "    </tr>\n",
       "    <tr>\n",
       "      <th>3</th>\n",
       "      <td>The hotel was adequate for my stay The strips ...</td>\n",
       "      <td>en</td>\n",
       "      <td>the hotel was adequate for my stay the strips ...</td>\n",
       "      <td>0.077</td>\n",
       "      <td>0.817</td>\n",
       "      <td>0.107</td>\n",
       "      <td>0.3634</td>\n",
       "      <td>pos</td>\n",
       "      <td>breakfast</td>\n",
       "    </tr>\n",
       "    <tr>\n",
       "      <th>4</th>\n",
       "      <td>Great location room was large and spacious Par...</td>\n",
       "      <td>en</td>\n",
       "      <td>great location room was large and spacious par...</td>\n",
       "      <td>0.000</td>\n",
       "      <td>0.471</td>\n",
       "      <td>0.529</td>\n",
       "      <td>0.9260</td>\n",
       "      <td>pos</td>\n",
       "      <td>parking</td>\n",
       "    </tr>\n",
       "  </tbody>\n",
       "</table>\n",
       "</div>"
      ],
      "text/plain": [
       "                                              Review Languagereveiw  \\\n",
       "0  I was very impressed with the resort Great sta...             en   \n",
       "1  The rooms were nice the outside needs work als...             en   \n",
       "2  Great location I have stayed at this hotel on ...             en   \n",
       "3  The hotel was adequate for my stay The strips ...             en   \n",
       "4  Great location room was large and spacious Par...             en   \n",
       "\n",
       "                                           Review_en    neg    neu    pos  \\\n",
       "0  i was very impressed with the resort great sta...  0.000  0.617  0.383   \n",
       "1  the rooms were nice the outside needs work als...  0.075  0.546  0.379   \n",
       "2  great location i have stayed at this hotel on ...  0.000  0.773  0.227   \n",
       "3  the hotel was adequate for my stay the strips ...  0.077  0.817  0.107   \n",
       "4  great location room was large and spacious par...  0.000  0.471  0.529   \n",
       "\n",
       "     comp Sentiment described_place  \n",
       "0  0.9359       pos                  \n",
       "1  0.8360       pos         outside  \n",
       "2  0.6249       pos                  \n",
       "3  0.3634       pos       breakfast  \n",
       "4  0.9260       pos         parking  "
      ]
     },
     "execution_count": 46,
     "metadata": {},
     "output_type": "execute_result"
    }
   ],
   "source": [
    "df.head()"
   ]
  },
  {
   "cell_type": "code",
   "execution_count": 47,
   "id": "8f0e373f",
   "metadata": {
    "execution": {
     "iopub.execute_input": "2022-06-05T07:27:15.659716Z",
     "iopub.status.busy": "2022-06-05T07:27:15.659453Z",
     "iopub.status.idle": "2022-06-05T07:27:15.673218Z",
     "shell.execute_reply": "2022-06-05T07:27:15.672511Z"
    },
    "papermill": {
     "duration": 0.038757,
     "end_time": "2022-06-05T07:27:15.674891",
     "exception": false,
     "start_time": "2022-06-05T07:27:15.636134",
     "status": "completed"
    },
    "tags": []
   },
   "outputs": [],
   "source": [
    "new_df = df[(df['described_place'] == 'room') | (df['described_place'] == 'staff') | (df['described_place'] == 'hotel') | (df['described_place'] == 'location') | (df['described_place'] == 'bed')][['Sentiment','described_place']]"
   ]
  },
  {
   "cell_type": "code",
   "execution_count": 48,
   "id": "24402b8d",
   "metadata": {
    "execution": {
     "iopub.execute_input": "2022-06-05T07:27:15.721569Z",
     "iopub.status.busy": "2022-06-05T07:27:15.720874Z",
     "iopub.status.idle": "2022-06-05T07:27:15.730882Z",
     "shell.execute_reply": "2022-06-05T07:27:15.730053Z"
    },
    "papermill": {
     "duration": 0.03576,
     "end_time": "2022-06-05T07:27:15.733430",
     "exception": false,
     "start_time": "2022-06-05T07:27:15.697670",
     "status": "completed"
    },
    "tags": []
   },
   "outputs": [
    {
     "data": {
      "text/html": [
       "<div>\n",
       "<style scoped>\n",
       "    .dataframe tbody tr th:only-of-type {\n",
       "        vertical-align: middle;\n",
       "    }\n",
       "\n",
       "    .dataframe tbody tr th {\n",
       "        vertical-align: top;\n",
       "    }\n",
       "\n",
       "    .dataframe thead th {\n",
       "        text-align: right;\n",
       "    }\n",
       "</style>\n",
       "<table border=\"1\" class=\"dataframe\">\n",
       "  <thead>\n",
       "    <tr style=\"text-align: right;\">\n",
       "      <th></th>\n",
       "      <th>Sentiment</th>\n",
       "      <th>described_place</th>\n",
       "    </tr>\n",
       "  </thead>\n",
       "  <tbody>\n",
       "    <tr>\n",
       "      <th>9</th>\n",
       "      <td>pos</td>\n",
       "      <td>room</td>\n",
       "    </tr>\n",
       "    <tr>\n",
       "      <th>12</th>\n",
       "      <td>pos</td>\n",
       "      <td>room</td>\n",
       "    </tr>\n",
       "    <tr>\n",
       "      <th>16</th>\n",
       "      <td>pos</td>\n",
       "      <td>bed</td>\n",
       "    </tr>\n",
       "    <tr>\n",
       "      <th>19</th>\n",
       "      <td>pos</td>\n",
       "      <td>room</td>\n",
       "    </tr>\n",
       "    <tr>\n",
       "      <th>27</th>\n",
       "      <td>pos</td>\n",
       "      <td>staff</td>\n",
       "    </tr>\n",
       "    <tr>\n",
       "      <th>...</th>\n",
       "      <td>...</td>\n",
       "      <td>...</td>\n",
       "    </tr>\n",
       "    <tr>\n",
       "      <th>6439</th>\n",
       "      <td>pos</td>\n",
       "      <td>room</td>\n",
       "    </tr>\n",
       "    <tr>\n",
       "      <th>6440</th>\n",
       "      <td>pos</td>\n",
       "      <td>bed</td>\n",
       "    </tr>\n",
       "    <tr>\n",
       "      <th>6445</th>\n",
       "      <td>pos</td>\n",
       "      <td>bed</td>\n",
       "    </tr>\n",
       "    <tr>\n",
       "      <th>6446</th>\n",
       "      <td>neu</td>\n",
       "      <td>staff</td>\n",
       "    </tr>\n",
       "    <tr>\n",
       "      <th>6447</th>\n",
       "      <td>pos</td>\n",
       "      <td>bed</td>\n",
       "    </tr>\n",
       "  </tbody>\n",
       "</table>\n",
       "<p>1757 rows × 2 columns</p>\n",
       "</div>"
      ],
      "text/plain": [
       "     Sentiment described_place\n",
       "9          pos            room\n",
       "12         pos            room\n",
       "16         pos             bed\n",
       "19         pos            room\n",
       "27         pos           staff\n",
       "...        ...             ...\n",
       "6439       pos            room\n",
       "6440       pos             bed\n",
       "6445       pos             bed\n",
       "6446       neu           staff\n",
       "6447       pos             bed\n",
       "\n",
       "[1757 rows x 2 columns]"
      ]
     },
     "execution_count": 48,
     "metadata": {},
     "output_type": "execute_result"
    }
   ],
   "source": [
    "new_df"
   ]
  },
  {
   "cell_type": "code",
   "execution_count": 49,
   "id": "e2d4065a",
   "metadata": {
    "execution": {
     "iopub.execute_input": "2022-06-05T07:27:15.779947Z",
     "iopub.status.busy": "2022-06-05T07:27:15.779701Z",
     "iopub.status.idle": "2022-06-05T07:27:15.992531Z",
     "shell.execute_reply": "2022-06-05T07:27:15.991778Z"
    },
    "papermill": {
     "duration": 0.237833,
     "end_time": "2022-06-05T07:27:15.994328",
     "exception": false,
     "start_time": "2022-06-05T07:27:15.756495",
     "status": "completed"
    },
    "tags": []
   },
   "outputs": [
    {
     "data": {
      "text/plain": [
       "<AxesSubplot:xlabel='described_place', ylabel='count'>"
      ]
     },
     "execution_count": 49,
     "metadata": {},
     "output_type": "execute_result"
    },
    {
     "data": {
      "image/png": "[encoded data removed]",
      "text/plain": [
       "<Figure size 432x288 with 1 Axes>"
      ]
     },
     "metadata": {},
     "output_type": "display_data"
    }
   ],
   "source": [
    "sns.countplot(x='described_place',data=new_df, hue='Sentiment')"
   ]
  },
  {
   "cell_type": "markdown",
   "id": "50785771",
   "metadata": {
    "papermill": {
     "duration": 0.023243,
     "end_time": "2022-06-05T07:27:16.041469",
     "exception": false,
     "start_time": "2022-06-05T07:27:16.018226",
     "status": "completed"
    },
    "tags": []
   },
   "source": [
    "## Insight 3: Finding the countries and Insight 4: Finding Country wise reviews"
   ]
  },
  {
   "cell_type": "code",
   "execution_count": 50,
   "id": "7f30a2b0",
   "metadata": {
    "execution": {
     "iopub.execute_input": "2022-06-05T07:27:16.089554Z",
     "iopub.status.busy": "2022-06-05T07:27:16.089070Z",
     "iopub.status.idle": "2022-06-05T07:27:16.946941Z",
     "shell.execute_reply": "2022-06-05T07:27:16.946162Z"
    },
    "papermill": {
     "duration": 0.883728,
     "end_time": "2022-06-05T07:27:16.948986",
     "exception": false,
     "start_time": "2022-06-05T07:27:16.065258",
     "status": "completed"
    },
    "tags": []
   },
   "outputs": [],
   "source": [
    "df_loc = pd.read_excel('../input/clootrack-assignment/Data Analyst - Test Data_new.xlsx')"
   ]
  },
  {
   "cell_type": "markdown",
   "id": "56634285",
   "metadata": {
    "papermill": {
     "duration": 0.023151,
     "end_time": "2022-06-05T07:27:16.996463",
     "exception": false,
     "start_time": "2022-06-05T07:27:16.973312",
     "status": "completed"
    },
    "tags": []
   },
   "source": []
  },
  {
   "cell_type": "code",
   "execution_count": 51,
   "id": "93e95646",
   "metadata": {
    "execution": {
     "iopub.execute_input": "2022-06-05T07:27:17.044395Z",
     "iopub.status.busy": "2022-06-05T07:27:17.044064Z",
     "iopub.status.idle": "2022-06-05T07:27:17.057744Z",
     "shell.execute_reply": "2022-06-05T07:27:17.056944Z"
    },
    "papermill": {
     "duration": 0.039662,
     "end_time": "2022-06-05T07:27:17.059639",
     "exception": false,
     "start_time": "2022-06-05T07:27:17.019977",
     "status": "completed"
    },
    "tags": []
   },
   "outputs": [
    {
     "data": {
      "text/html": [
       "<div>\n",
       "<style scoped>\n",
       "    .dataframe tbody tr th:only-of-type {\n",
       "        vertical-align: middle;\n",
       "    }\n",
       "\n",
       "    .dataframe tbody tr th {\n",
       "        vertical-align: top;\n",
       "    }\n",
       "\n",
       "    .dataframe thead th {\n",
       "        text-align: right;\n",
       "    }\n",
       "</style>\n",
       "<table border=\"1\" class=\"dataframe\">\n",
       "  <thead>\n",
       "    <tr style=\"text-align: right;\">\n",
       "      <th></th>\n",
       "      <th>Review</th>\n",
       "      <th>date</th>\n",
       "      <th>Location</th>\n",
       "    </tr>\n",
       "  </thead>\n",
       "  <tbody>\n",
       "    <tr>\n",
       "      <th>0</th>\n",
       "      <td>I was very impressed with the resort.\\n Great ...</td>\n",
       "      <td>2019-08-20</td>\n",
       "      <td>Sebastian</td>\n",
       "    </tr>\n",
       "    <tr>\n",
       "      <th>1</th>\n",
       "      <td>The rooms were nice the outside needs work als...</td>\n",
       "      <td>2019-08-20</td>\n",
       "      <td>Los Angeles</td>\n",
       "    </tr>\n",
       "    <tr>\n",
       "      <th>2</th>\n",
       "      <td>Great location! I have stayed at this hotel on...</td>\n",
       "      <td>2019-08-20</td>\n",
       "      <td>Georgia</td>\n",
       "    </tr>\n",
       "    <tr>\n",
       "      <th>3</th>\n",
       "      <td>The hotel was adequate for my stay. The strips...</td>\n",
       "      <td>2019-08-20</td>\n",
       "      <td>NaN</td>\n",
       "    </tr>\n",
       "    <tr>\n",
       "      <th>4</th>\n",
       "      <td>Great location, room was large and spacious. P...</td>\n",
       "      <td>2019-08-19</td>\n",
       "      <td>Palm Harbor</td>\n",
       "    </tr>\n",
       "    <tr>\n",
       "      <th>...</th>\n",
       "      <td>...</td>\n",
       "      <td>...</td>\n",
       "      <td>...</td>\n",
       "    </tr>\n",
       "    <tr>\n",
       "      <th>6443</th>\n",
       "      <td>·the staff were all so friendly. frank, the ch...</td>\n",
       "      <td>2019-07-12</td>\n",
       "      <td>United States of America</td>\n",
       "    </tr>\n",
       "    <tr>\n",
       "      <th>6444</th>\n",
       "      <td>·the internet barely worked or didn't work</td>\n",
       "      <td>2019-07-12</td>\n",
       "      <td>United States of America</td>\n",
       "    </tr>\n",
       "    <tr>\n",
       "      <th>6445</th>\n",
       "      <td>·the location was great.\\n \\n \\n \\n \\n ·the be...</td>\n",
       "      <td>2019-07-10</td>\n",
       "      <td>United States of America</td>\n",
       "    </tr>\n",
       "    <tr>\n",
       "      <th>6446</th>\n",
       "      <td>·we were early for check in and the staff was ...</td>\n",
       "      <td>2019-07-10</td>\n",
       "      <td>United States of America</td>\n",
       "    </tr>\n",
       "    <tr>\n",
       "      <th>6447</th>\n",
       "      <td>·staff, free coffee, location and activities.\\...</td>\n",
       "      <td>2019-07-10</td>\n",
       "      <td>United States of America</td>\n",
       "    </tr>\n",
       "  </tbody>\n",
       "</table>\n",
       "<p>6448 rows × 3 columns</p>\n",
       "</div>"
      ],
      "text/plain": [
       "                                                 Review       date  \\\n",
       "0     I was very impressed with the resort.\\n Great ... 2019-08-20   \n",
       "1     The rooms were nice the outside needs work als... 2019-08-20   \n",
       "2     Great location! I have stayed at this hotel on... 2019-08-20   \n",
       "3     The hotel was adequate for my stay. The strips... 2019-08-20   \n",
       "4     Great location, room was large and spacious. P... 2019-08-19   \n",
       "...                                                 ...        ...   \n",
       "6443  ·the staff were all so friendly. frank, the ch... 2019-07-12   \n",
       "6444         ·the internet barely worked or didn't work 2019-07-12   \n",
       "6445  ·the location was great.\\n \\n \\n \\n \\n ·the be... 2019-07-10   \n",
       "6446  ·we were early for check in and the staff was ... 2019-07-10   \n",
       "6447  ·staff, free coffee, location and activities.\\... 2019-07-10   \n",
       "\n",
       "                      Location  \n",
       "0                    Sebastian  \n",
       "1                  Los Angeles  \n",
       "2                      Georgia  \n",
       "3                          NaN  \n",
       "4                  Palm Harbor  \n",
       "...                        ...  \n",
       "6443  United States of America  \n",
       "6444  United States of America  \n",
       "6445  United States of America  \n",
       "6446  United States of America  \n",
       "6447  United States of America  \n",
       "\n",
       "[6448 rows x 3 columns]"
      ]
     },
     "execution_count": 51,
     "metadata": {},
     "output_type": "execute_result"
    }
   ],
   "source": [
    "df_loc"
   ]
  },
  {
   "cell_type": "code",
   "execution_count": 52,
   "id": "9680e0c6",
   "metadata": {
    "execution": {
     "iopub.execute_input": "2022-06-05T07:27:17.108139Z",
     "iopub.status.busy": "2022-06-05T07:27:17.107555Z",
     "iopub.status.idle": "2022-06-05T07:27:17.111722Z",
     "shell.execute_reply": "2022-06-05T07:27:17.110966Z"
    },
    "papermill": {
     "duration": 0.030488,
     "end_time": "2022-06-05T07:27:17.113457",
     "exception": false,
     "start_time": "2022-06-05T07:27:17.082969",
     "status": "completed"
    },
    "tags": []
   },
   "outputs": [],
   "source": [
    "df_loc = df_loc.iloc[:,2:3]"
   ]
  },
  {
   "cell_type": "code",
   "execution_count": 53,
   "id": "9d440495",
   "metadata": {
    "execution": {
     "iopub.execute_input": "2022-06-05T07:27:17.161175Z",
     "iopub.status.busy": "2022-06-05T07:27:17.160617Z",
     "iopub.status.idle": "2022-06-05T07:27:17.169375Z",
     "shell.execute_reply": "2022-06-05T07:27:17.168672Z"
    },
    "papermill": {
     "duration": 0.034333,
     "end_time": "2022-06-05T07:27:17.170979",
     "exception": false,
     "start_time": "2022-06-05T07:27:17.136646",
     "status": "completed"
    },
    "tags": []
   },
   "outputs": [
    {
     "data": {
      "text/html": [
       "<div>\n",
       "<style scoped>\n",
       "    .dataframe tbody tr th:only-of-type {\n",
       "        vertical-align: middle;\n",
       "    }\n",
       "\n",
       "    .dataframe tbody tr th {\n",
       "        vertical-align: top;\n",
       "    }\n",
       "\n",
       "    .dataframe thead th {\n",
       "        text-align: right;\n",
       "    }\n",
       "</style>\n",
       "<table border=\"1\" class=\"dataframe\">\n",
       "  <thead>\n",
       "    <tr style=\"text-align: right;\">\n",
       "      <th></th>\n",
       "      <th>Location</th>\n",
       "    </tr>\n",
       "  </thead>\n",
       "  <tbody>\n",
       "    <tr>\n",
       "      <th>0</th>\n",
       "      <td>Sebastian</td>\n",
       "    </tr>\n",
       "    <tr>\n",
       "      <th>1</th>\n",
       "      <td>Los Angeles</td>\n",
       "    </tr>\n",
       "    <tr>\n",
       "      <th>2</th>\n",
       "      <td>Georgia</td>\n",
       "    </tr>\n",
       "    <tr>\n",
       "      <th>3</th>\n",
       "      <td>NaN</td>\n",
       "    </tr>\n",
       "    <tr>\n",
       "      <th>4</th>\n",
       "      <td>Palm Harbor</td>\n",
       "    </tr>\n",
       "    <tr>\n",
       "      <th>...</th>\n",
       "      <td>...</td>\n",
       "    </tr>\n",
       "    <tr>\n",
       "      <th>6443</th>\n",
       "      <td>United States of America</td>\n",
       "    </tr>\n",
       "    <tr>\n",
       "      <th>6444</th>\n",
       "      <td>United States of America</td>\n",
       "    </tr>\n",
       "    <tr>\n",
       "      <th>6445</th>\n",
       "      <td>United States of America</td>\n",
       "    </tr>\n",
       "    <tr>\n",
       "      <th>6446</th>\n",
       "      <td>United States of America</td>\n",
       "    </tr>\n",
       "    <tr>\n",
       "      <th>6447</th>\n",
       "      <td>United States of America</td>\n",
       "    </tr>\n",
       "  </tbody>\n",
       "</table>\n",
       "<p>6448 rows × 1 columns</p>\n",
       "</div>"
      ],
      "text/plain": [
       "                      Location\n",
       "0                    Sebastian\n",
       "1                  Los Angeles\n",
       "2                      Georgia\n",
       "3                          NaN\n",
       "4                  Palm Harbor\n",
       "...                        ...\n",
       "6443  United States of America\n",
       "6444  United States of America\n",
       "6445  United States of America\n",
       "6446  United States of America\n",
       "6447  United States of America\n",
       "\n",
       "[6448 rows x 1 columns]"
      ]
     },
     "execution_count": 53,
     "metadata": {},
     "output_type": "execute_result"
    }
   ],
   "source": [
    "df_loc"
   ]
  },
  {
   "cell_type": "code",
   "execution_count": 54,
   "id": "89b08bed",
   "metadata": {
    "execution": {
     "iopub.execute_input": "2022-06-05T07:27:17.219191Z",
     "iopub.status.busy": "2022-06-05T07:27:17.218454Z",
     "iopub.status.idle": "2022-06-05T07:27:26.365086Z",
     "shell.execute_reply": "2022-06-05T07:27:26.364037Z"
    },
    "papermill": {
     "duration": 9.173136,
     "end_time": "2022-06-05T07:27:26.367294",
     "exception": false,
     "start_time": "2022-06-05T07:27:17.194158",
     "status": "completed"
    },
    "tags": []
   },
   "outputs": [
    {
     "name": "stdout",
     "output_type": "stream",
     "text": [
      "Requirement already satisfied: geopy in /opt/conda/lib/python3.7/site-packages (2.2.0)\r\n",
      "Requirement already satisfied: geographiclib<2,>=1.49 in /opt/conda/lib/python3.7/site-packages (from geopy) (1.52)\r\n",
      "\u001b[33mWARNING: Running pip as the 'root' user can result in broken permissions and conflicting behaviour with the system package manager. It is recommended to use a virtual environment instead: https://pip.pypa.io/warnings/venv\u001b[0m\u001b[33m\r\n",
      "\u001b[0m"
     ]
    }
   ],
   "source": [
    "!pip install geopy"
   ]
  },
  {
   "cell_type": "code",
   "execution_count": 55,
   "id": "db85f00e",
   "metadata": {
    "execution": {
     "iopub.execute_input": "2022-06-05T07:27:26.417275Z",
     "iopub.status.busy": "2022-06-05T07:27:26.416910Z",
     "iopub.status.idle": "2022-06-05T07:27:26.516986Z",
     "shell.execute_reply": "2022-06-05T07:27:26.516244Z"
    },
    "papermill": {
     "duration": 0.126982,
     "end_time": "2022-06-05T07:27:26.519087",
     "exception": false,
     "start_time": "2022-06-05T07:27:26.392105",
     "status": "completed"
    },
    "tags": []
   },
   "outputs": [],
   "source": [
    "from geopy.geocoders import Nominatim"
   ]
  },
  {
   "cell_type": "code",
   "execution_count": 56,
   "id": "75bad931",
   "metadata": {
    "execution": {
     "iopub.execute_input": "2022-06-05T07:27:26.570519Z",
     "iopub.status.busy": "2022-06-05T07:27:26.569284Z",
     "iopub.status.idle": "2022-06-05T07:27:26.578854Z",
     "shell.execute_reply": "2022-06-05T07:27:26.578025Z"
    },
    "papermill": {
     "duration": 0.036991,
     "end_time": "2022-06-05T07:27:26.580769",
     "exception": false,
     "start_time": "2022-06-05T07:27:26.543778",
     "status": "completed"
    },
    "tags": []
   },
   "outputs": [],
   "source": [
    "geolocator = Nominatim(user_agent=\"http12\",timeout=10)"
   ]
  },
  {
   "cell_type": "code",
   "execution_count": 57,
   "id": "5fb079f7",
   "metadata": {
    "execution": {
     "iopub.execute_input": "2022-06-05T07:27:26.630755Z",
     "iopub.status.busy": "2022-06-05T07:27:26.630376Z",
     "iopub.status.idle": "2022-06-05T07:27:28.532135Z",
     "shell.execute_reply": "2022-06-05T07:27:28.531398Z"
    },
    "papermill": {
     "duration": 1.929823,
     "end_time": "2022-06-05T07:27:28.534413",
     "exception": false,
     "start_time": "2022-06-05T07:27:26.604590",
     "status": "completed"
    },
    "tags": []
   },
   "outputs": [
    {
     "data": {
      "text/plain": [
       "'United States'"
      ]
     },
     "execution_count": 57,
     "metadata": {},
     "output_type": "execute_result"
    }
   ],
   "source": [
    "location = geolocator.geocode('San Jose ca')\n",
    "country = str(location).split(',')[-1].strip()\n",
    "country\n",
    "#We will use the above logic to get the country of every location."
   ]
  },
  {
   "cell_type": "code",
   "execution_count": 58,
   "id": "e1341e4a",
   "metadata": {
    "execution": {
     "iopub.execute_input": "2022-06-05T07:27:28.584932Z",
     "iopub.status.busy": "2022-06-05T07:27:28.584040Z",
     "iopub.status.idle": "2022-06-05T07:27:28.588143Z",
     "shell.execute_reply": "2022-06-05T07:27:28.587487Z"
    },
    "papermill": {
     "duration": 0.030998,
     "end_time": "2022-06-05T07:27:28.589758",
     "exception": false,
     "start_time": "2022-06-05T07:27:28.558760",
     "status": "completed"
    },
    "tags": []
   },
   "outputs": [],
   "source": [
    "#First we need to clean data"
   ]
  },
  {
   "cell_type": "code",
   "execution_count": 59,
   "id": "6a25fa0a",
   "metadata": {
    "execution": {
     "iopub.execute_input": "2022-06-05T07:27:28.638584Z",
     "iopub.status.busy": "2022-06-05T07:27:28.638318Z",
     "iopub.status.idle": "2022-06-05T07:27:28.646420Z",
     "shell.execute_reply": "2022-06-05T07:27:28.645720Z"
    },
    "papermill": {
     "duration": 0.034192,
     "end_time": "2022-06-05T07:27:28.648018",
     "exception": false,
     "start_time": "2022-06-05T07:27:28.613826",
     "status": "completed"
    },
    "tags": []
   },
   "outputs": [
    {
     "data": {
      "text/plain": [
       "Location    4737\n",
       "dtype: int64"
      ]
     },
     "execution_count": 59,
     "metadata": {},
     "output_type": "execute_result"
    }
   ],
   "source": [
    "df_loc.isnull().sum()"
   ]
  },
  {
   "cell_type": "code",
   "execution_count": 60,
   "id": "25fe6b94",
   "metadata": {
    "execution": {
     "iopub.execute_input": "2022-06-05T07:27:28.697312Z",
     "iopub.status.busy": "2022-06-05T07:27:28.696721Z",
     "iopub.status.idle": "2022-06-05T07:27:28.702629Z",
     "shell.execute_reply": "2022-06-05T07:27:28.701946Z"
    },
    "papermill": {
     "duration": 0.032569,
     "end_time": "2022-06-05T07:27:28.704494",
     "exception": false,
     "start_time": "2022-06-05T07:27:28.671925",
     "status": "completed"
    },
    "tags": []
   },
   "outputs": [],
   "source": [
    "df_loc = df_loc.dropna()"
   ]
  },
  {
   "cell_type": "code",
   "execution_count": 61,
   "id": "00f89131",
   "metadata": {
    "execution": {
     "iopub.execute_input": "2022-06-05T07:27:28.754326Z",
     "iopub.status.busy": "2022-06-05T07:27:28.753547Z",
     "iopub.status.idle": "2022-06-05T07:27:28.760889Z",
     "shell.execute_reply": "2022-06-05T07:27:28.760130Z"
    },
    "papermill": {
     "duration": 0.033781,
     "end_time": "2022-06-05T07:27:28.762555",
     "exception": false,
     "start_time": "2022-06-05T07:27:28.728774",
     "status": "completed"
    },
    "tags": []
   },
   "outputs": [
    {
     "data": {
      "text/plain": [
       "Location    0\n",
       "dtype: int64"
      ]
     },
     "execution_count": 61,
     "metadata": {},
     "output_type": "execute_result"
    }
   ],
   "source": [
    "df_loc.isnull().sum()"
   ]
  },
  {
   "cell_type": "code",
   "execution_count": 62,
   "id": "32e4d0f3",
   "metadata": {
    "execution": {
     "iopub.execute_input": "2022-06-05T07:27:28.811484Z",
     "iopub.status.busy": "2022-06-05T07:27:28.811068Z",
     "iopub.status.idle": "2022-06-05T07:27:28.816829Z",
     "shell.execute_reply": "2022-06-05T07:27:28.816151Z"
    },
    "papermill": {
     "duration": 0.031657,
     "end_time": "2022-06-05T07:27:28.818474",
     "exception": false,
     "start_time": "2022-06-05T07:27:28.786817",
     "status": "completed"
    },
    "tags": []
   },
   "outputs": [
    {
     "data": {
      "text/plain": [
       "'San Jose ca'"
      ]
     },
     "execution_count": 62,
     "metadata": {},
     "output_type": "execute_result"
    }
   ],
   "source": [
    "df_loc.shape\n",
    "import time\n",
    "df_loc['Location'][1125]"
   ]
  },
  {
   "cell_type": "code",
   "execution_count": 63,
   "id": "578a6bbf",
   "metadata": {
    "execution": {
     "iopub.execute_input": "2022-06-05T07:27:28.868070Z",
     "iopub.status.busy": "2022-06-05T07:27:28.867530Z",
     "iopub.status.idle": "2022-06-05T07:46:58.571058Z",
     "shell.execute_reply": "2022-06-05T07:46:58.570249Z"
    },
    "papermill": {
     "duration": 1169.731021,
     "end_time": "2022-06-05T07:46:58.573337",
     "exception": false,
     "start_time": "2022-06-05T07:27:28.842316",
     "status": "completed"
    },
    "tags": []
   },
   "outputs": [],
   "source": [
    "countries = []\n",
    "for loc in df_loc['Location'].iteritems():\n",
    "    location = geolocator.geocode(loc)\n",
    "    country = str(location).split(',')[-1].strip()\n",
    "    countries.append(country)\n",
    "    \n",
    "    \n",
    "    "
   ]
  },
  {
   "cell_type": "code",
   "execution_count": 64,
   "id": "a71d1666",
   "metadata": {
    "execution": {
     "iopub.execute_input": "2022-06-05T07:46:58.625139Z",
     "iopub.status.busy": "2022-06-05T07:46:58.624834Z",
     "iopub.status.idle": "2022-06-05T07:46:58.630597Z",
     "shell.execute_reply": "2022-06-05T07:46:58.629863Z"
    },
    "papermill": {
     "duration": 0.033718,
     "end_time": "2022-06-05T07:46:58.632281",
     "exception": false,
     "start_time": "2022-06-05T07:46:58.598563",
     "status": "completed"
    },
    "tags": []
   },
   "outputs": [],
   "source": [
    "df_loc['Country']=countries"
   ]
  },
  {
   "cell_type": "code",
   "execution_count": 65,
   "id": "2fd3be66",
   "metadata": {
    "execution": {
     "iopub.execute_input": "2022-06-05T07:46:58.682116Z",
     "iopub.status.busy": "2022-06-05T07:46:58.681461Z",
     "iopub.status.idle": "2022-06-05T07:46:58.691040Z",
     "shell.execute_reply": "2022-06-05T07:46:58.690262Z"
    },
    "papermill": {
     "duration": 0.036108,
     "end_time": "2022-06-05T07:46:58.692732",
     "exception": false,
     "start_time": "2022-06-05T07:46:58.656624",
     "status": "completed"
    },
    "tags": []
   },
   "outputs": [
    {
     "data": {
      "text/html": [
       "<div>\n",
       "<style scoped>\n",
       "    .dataframe tbody tr th:only-of-type {\n",
       "        vertical-align: middle;\n",
       "    }\n",
       "\n",
       "    .dataframe tbody tr th {\n",
       "        vertical-align: top;\n",
       "    }\n",
       "\n",
       "    .dataframe thead th {\n",
       "        text-align: right;\n",
       "    }\n",
       "</style>\n",
       "<table border=\"1\" class=\"dataframe\">\n",
       "  <thead>\n",
       "    <tr style=\"text-align: right;\">\n",
       "      <th></th>\n",
       "      <th>Location</th>\n",
       "      <th>Country</th>\n",
       "    </tr>\n",
       "  </thead>\n",
       "  <tbody>\n",
       "    <tr>\n",
       "      <th>0</th>\n",
       "      <td>Sebastian</td>\n",
       "      <td>España</td>\n",
       "    </tr>\n",
       "    <tr>\n",
       "      <th>1</th>\n",
       "      <td>Los Angeles</td>\n",
       "      <td>Uruguay</td>\n",
       "    </tr>\n",
       "    <tr>\n",
       "      <th>2</th>\n",
       "      <td>Georgia</td>\n",
       "      <td>United States</td>\n",
       "    </tr>\n",
       "    <tr>\n",
       "      <th>4</th>\n",
       "      <td>Palm Harbor</td>\n",
       "      <td>United States</td>\n",
       "    </tr>\n",
       "    <tr>\n",
       "      <th>10</th>\n",
       "      <td>California</td>\n",
       "      <td>United States</td>\n",
       "    </tr>\n",
       "  </tbody>\n",
       "</table>\n",
       "</div>"
      ],
      "text/plain": [
       "       Location        Country\n",
       "0     Sebastian         España\n",
       "1   Los Angeles        Uruguay\n",
       "2       Georgia  United States\n",
       "4   Palm Harbor  United States\n",
       "10   California  United States"
      ]
     },
     "execution_count": 65,
     "metadata": {},
     "output_type": "execute_result"
    }
   ],
   "source": [
    "df_loc.head()"
   ]
  },
  {
   "cell_type": "code",
   "execution_count": 66,
   "id": "e6f02d9c",
   "metadata": {
    "execution": {
     "iopub.execute_input": "2022-06-05T07:46:58.742387Z",
     "iopub.status.busy": "2022-06-05T07:46:58.741862Z",
     "iopub.status.idle": "2022-06-05T07:46:58.749163Z",
     "shell.execute_reply": "2022-06-05T07:46:58.748487Z"
    },
    "papermill": {
     "duration": 0.033943,
     "end_time": "2022-06-05T07:46:58.750779",
     "exception": false,
     "start_time": "2022-06-05T07:46:58.716836",
     "status": "completed"
    },
    "tags": []
   },
   "outputs": [
    {
     "data": {
      "text/plain": [
       "United States              1110\n",
       "Canada                      119\n",
       "United Kingdom               69\n",
       "Pilipinas / Philippines      60\n",
       "Argentina                    56\n",
       "None                         46\n",
       "México                       34\n",
       "Chile                        28\n",
       "Deutschland                  17\n",
       "Nederland                    16\n",
       "Name: Country, dtype: int64"
      ]
     },
     "execution_count": 66,
     "metadata": {},
     "output_type": "execute_result"
    }
   ],
   "source": [
    "df_loc['Country'].value_counts().head(10)"
   ]
  },
  {
   "cell_type": "code",
   "execution_count": 67,
   "id": "927f3087",
   "metadata": {
    "execution": {
     "iopub.execute_input": "2022-06-05T07:46:58.802481Z",
     "iopub.status.busy": "2022-06-05T07:46:58.801655Z",
     "iopub.status.idle": "2022-06-05T07:46:58.810277Z",
     "shell.execute_reply": "2022-06-05T07:46:58.809605Z"
    },
    "papermill": {
     "duration": 0.035569,
     "end_time": "2022-06-05T07:46:58.811921",
     "exception": false,
     "start_time": "2022-06-05T07:46:58.776352",
     "status": "completed"
    },
    "tags": []
   },
   "outputs": [],
   "source": [
    "new_df1 = df_loc[(df_loc['Country']=='United States') | (df_loc['Country']=='Canada') | (df_loc['Country']=='United Kingdom') | (df_loc['Country']=='Pilipinas / Philippines') | (df_loc['Country']=='Argentina')][['Country']]"
   ]
  },
  {
   "cell_type": "code",
   "execution_count": 68,
   "id": "2c9b00bc",
   "metadata": {
    "execution": {
     "iopub.execute_input": "2022-06-05T07:46:58.862440Z",
     "iopub.status.busy": "2022-06-05T07:46:58.861791Z",
     "iopub.status.idle": "2022-06-05T07:46:58.870933Z",
     "shell.execute_reply": "2022-06-05T07:46:58.870258Z"
    },
    "papermill": {
     "duration": 0.036029,
     "end_time": "2022-06-05T07:46:58.872786",
     "exception": false,
     "start_time": "2022-06-05T07:46:58.836757",
     "status": "completed"
    },
    "tags": []
   },
   "outputs": [
    {
     "data": {
      "text/html": [
       "<div>\n",
       "<style scoped>\n",
       "    .dataframe tbody tr th:only-of-type {\n",
       "        vertical-align: middle;\n",
       "    }\n",
       "\n",
       "    .dataframe tbody tr th {\n",
       "        vertical-align: top;\n",
       "    }\n",
       "\n",
       "    .dataframe thead th {\n",
       "        text-align: right;\n",
       "    }\n",
       "</style>\n",
       "<table border=\"1\" class=\"dataframe\">\n",
       "  <thead>\n",
       "    <tr style=\"text-align: right;\">\n",
       "      <th></th>\n",
       "      <th>Country</th>\n",
       "    </tr>\n",
       "  </thead>\n",
       "  <tbody>\n",
       "    <tr>\n",
       "      <th>2</th>\n",
       "      <td>United States</td>\n",
       "    </tr>\n",
       "    <tr>\n",
       "      <th>4</th>\n",
       "      <td>United States</td>\n",
       "    </tr>\n",
       "    <tr>\n",
       "      <th>10</th>\n",
       "      <td>United States</td>\n",
       "    </tr>\n",
       "    <tr>\n",
       "      <th>15</th>\n",
       "      <td>United States</td>\n",
       "    </tr>\n",
       "    <tr>\n",
       "      <th>24</th>\n",
       "      <td>Argentina</td>\n",
       "    </tr>\n",
       "    <tr>\n",
       "      <th>...</th>\n",
       "      <td>...</td>\n",
       "    </tr>\n",
       "    <tr>\n",
       "      <th>6443</th>\n",
       "      <td>United States</td>\n",
       "    </tr>\n",
       "    <tr>\n",
       "      <th>6444</th>\n",
       "      <td>United States</td>\n",
       "    </tr>\n",
       "    <tr>\n",
       "      <th>6445</th>\n",
       "      <td>United States</td>\n",
       "    </tr>\n",
       "    <tr>\n",
       "      <th>6446</th>\n",
       "      <td>United States</td>\n",
       "    </tr>\n",
       "    <tr>\n",
       "      <th>6447</th>\n",
       "      <td>United States</td>\n",
       "    </tr>\n",
       "  </tbody>\n",
       "</table>\n",
       "<p>1414 rows × 1 columns</p>\n",
       "</div>"
      ],
      "text/plain": [
       "            Country\n",
       "2     United States\n",
       "4     United States\n",
       "10    United States\n",
       "15    United States\n",
       "24        Argentina\n",
       "...             ...\n",
       "6443  United States\n",
       "6444  United States\n",
       "6445  United States\n",
       "6446  United States\n",
       "6447  United States\n",
       "\n",
       "[1414 rows x 1 columns]"
      ]
     },
     "execution_count": 68,
     "metadata": {},
     "output_type": "execute_result"
    }
   ],
   "source": [
    "new_df1"
   ]
  },
  {
   "cell_type": "code",
   "execution_count": 69,
   "id": "8b587542",
   "metadata": {
    "execution": {
     "iopub.execute_input": "2022-06-05T07:46:58.923797Z",
     "iopub.status.busy": "2022-06-05T07:46:58.923524Z",
     "iopub.status.idle": "2022-06-05T07:46:59.089644Z",
     "shell.execute_reply": "2022-06-05T07:46:59.088660Z"
    },
    "papermill": {
     "duration": 0.193453,
     "end_time": "2022-06-05T07:46:59.091523",
     "exception": false,
     "start_time": "2022-06-05T07:46:58.898070",
     "status": "completed"
    },
    "tags": []
   },
   "outputs": [
    {
     "data": {
      "text/plain": [
       "[Text(0, 0, 'United States'),\n",
       " Text(1, 0, 'Argentina'),\n",
       " Text(2, 0, 'Canada'),\n",
       " Text(3, 0, 'United Kingdom'),\n",
       " Text(4, 0, 'Pilipinas / Philippines')]"
      ]
     },
     "execution_count": 69,
     "metadata": {},
     "output_type": "execute_result"
    },
    {
     "data": {
      "image/png": "[encoded data removed]",
      "text/plain": [
       "<Figure size 432x288 with 1 Axes>"
      ]
     },
     "metadata": {},
     "output_type": "display_data"
    }
   ],
   "source": [
    "ax1 = sns.countplot(x='Country',data=new_df1)\n",
    "ax1.set_xticklabels(ax1.get_xticklabels(), rotation=40, ha=\"right\")"
   ]
  },
  {
   "cell_type": "code",
   "execution_count": 70,
   "id": "9554cf79",
   "metadata": {
    "execution": {
     "iopub.execute_input": "2022-06-05T07:46:59.148746Z",
     "iopub.status.busy": "2022-06-05T07:46:59.148441Z",
     "iopub.status.idle": "2022-06-05T07:46:59.175057Z",
     "shell.execute_reply": "2022-06-05T07:46:59.174379Z"
    },
    "papermill": {
     "duration": 0.054154,
     "end_time": "2022-06-05T07:46:59.176692",
     "exception": false,
     "start_time": "2022-06-05T07:46:59.122538",
     "status": "completed"
    },
    "tags": []
   },
   "outputs": [
    {
     "data": {
      "text/html": [
       "<div>\n",
       "<style scoped>\n",
       "    .dataframe tbody tr th:only-of-type {\n",
       "        vertical-align: middle;\n",
       "    }\n",
       "\n",
       "    .dataframe tbody tr th {\n",
       "        vertical-align: top;\n",
       "    }\n",
       "\n",
       "    .dataframe thead th {\n",
       "        text-align: right;\n",
       "    }\n",
       "</style>\n",
       "<table border=\"1\" class=\"dataframe\">\n",
       "  <thead>\n",
       "    <tr style=\"text-align: right;\">\n",
       "      <th></th>\n",
       "      <th>Location</th>\n",
       "      <th>Country</th>\n",
       "      <th>Review</th>\n",
       "      <th>Languagereveiw</th>\n",
       "      <th>Review_en</th>\n",
       "      <th>neg</th>\n",
       "      <th>neu</th>\n",
       "      <th>pos</th>\n",
       "      <th>comp</th>\n",
       "      <th>Sentiment</th>\n",
       "      <th>described_place</th>\n",
       "    </tr>\n",
       "  </thead>\n",
       "  <tbody>\n",
       "    <tr>\n",
       "      <th>0</th>\n",
       "      <td>Sebastian</td>\n",
       "      <td>España</td>\n",
       "      <td>I was very impressed with the resort Great sta...</td>\n",
       "      <td>en</td>\n",
       "      <td>i was very impressed with the resort great sta...</td>\n",
       "      <td>0.000</td>\n",
       "      <td>0.617</td>\n",
       "      <td>0.383</td>\n",
       "      <td>0.9359</td>\n",
       "      <td>pos</td>\n",
       "      <td></td>\n",
       "    </tr>\n",
       "    <tr>\n",
       "      <th>1</th>\n",
       "      <td>Los Angeles</td>\n",
       "      <td>Uruguay</td>\n",
       "      <td>The rooms were nice the outside needs work als...</td>\n",
       "      <td>en</td>\n",
       "      <td>the rooms were nice the outside needs work als...</td>\n",
       "      <td>0.075</td>\n",
       "      <td>0.546</td>\n",
       "      <td>0.379</td>\n",
       "      <td>0.8360</td>\n",
       "      <td>pos</td>\n",
       "      <td>outside</td>\n",
       "    </tr>\n",
       "    <tr>\n",
       "      <th>2</th>\n",
       "      <td>Georgia</td>\n",
       "      <td>United States</td>\n",
       "      <td>Great location I have stayed at this hotel on ...</td>\n",
       "      <td>en</td>\n",
       "      <td>great location i have stayed at this hotel on ...</td>\n",
       "      <td>0.000</td>\n",
       "      <td>0.773</td>\n",
       "      <td>0.227</td>\n",
       "      <td>0.6249</td>\n",
       "      <td>pos</td>\n",
       "      <td></td>\n",
       "    </tr>\n",
       "    <tr>\n",
       "      <th>4</th>\n",
       "      <td>Palm Harbor</td>\n",
       "      <td>United States</td>\n",
       "      <td>Great location room was large and spacious Par...</td>\n",
       "      <td>en</td>\n",
       "      <td>great location room was large and spacious par...</td>\n",
       "      <td>0.000</td>\n",
       "      <td>0.471</td>\n",
       "      <td>0.529</td>\n",
       "      <td>0.9260</td>\n",
       "      <td>pos</td>\n",
       "      <td>parking</td>\n",
       "    </tr>\n",
       "    <tr>\n",
       "      <th>10</th>\n",
       "      <td>California</td>\n",
       "      <td>United States</td>\n",
       "      <td>Very clean and friendly and I love the locatio...</td>\n",
       "      <td>en</td>\n",
       "      <td>very clean and friendly and i love the locatio...</td>\n",
       "      <td>0.000</td>\n",
       "      <td>0.687</td>\n",
       "      <td>0.313</td>\n",
       "      <td>0.8940</td>\n",
       "      <td>pos</td>\n",
       "      <td></td>\n",
       "    </tr>\n",
       "    <tr>\n",
       "      <th>...</th>\n",
       "      <td>...</td>\n",
       "      <td>...</td>\n",
       "      <td>...</td>\n",
       "      <td>...</td>\n",
       "      <td>...</td>\n",
       "      <td>...</td>\n",
       "      <td>...</td>\n",
       "      <td>...</td>\n",
       "      <td>...</td>\n",
       "      <td>...</td>\n",
       "      <td>...</td>\n",
       "    </tr>\n",
       "    <tr>\n",
       "      <th>6443</th>\n",
       "      <td>United States of America</td>\n",
       "      <td>United States</td>\n",
       "      <td>the staff were all so friendly frank the chef ...</td>\n",
       "      <td>en</td>\n",
       "      <td>the staff were all so friendly frank the chef ...</td>\n",
       "      <td>0.000</td>\n",
       "      <td>0.828</td>\n",
       "      <td>0.172</td>\n",
       "      <td>0.9716</td>\n",
       "      <td>pos</td>\n",
       "      <td>pool</td>\n",
       "    </tr>\n",
       "    <tr>\n",
       "      <th>6444</th>\n",
       "      <td>United States of America</td>\n",
       "      <td>United States</td>\n",
       "      <td>the internet barely worked or didnt work</td>\n",
       "      <td>en</td>\n",
       "      <td>the internet barely worked or didnt work</td>\n",
       "      <td>0.000</td>\n",
       "      <td>1.000</td>\n",
       "      <td>0.000</td>\n",
       "      <td>0.0000</td>\n",
       "      <td>neu</td>\n",
       "      <td>internet</td>\n",
       "    </tr>\n",
       "    <tr>\n",
       "      <th>6445</th>\n",
       "      <td>United States of America</td>\n",
       "      <td>United States</td>\n",
       "      <td>the location was great the bed was the most un...</td>\n",
       "      <td>en</td>\n",
       "      <td>the location was great the bed was the most un...</td>\n",
       "      <td>0.145</td>\n",
       "      <td>0.650</td>\n",
       "      <td>0.205</td>\n",
       "      <td>0.2975</td>\n",
       "      <td>pos</td>\n",
       "      <td>bed</td>\n",
       "    </tr>\n",
       "    <tr>\n",
       "      <th>6446</th>\n",
       "      <td>United States of America</td>\n",
       "      <td>United States</td>\n",
       "      <td>we were early for check in and the staff was v...</td>\n",
       "      <td>en</td>\n",
       "      <td>we were early for check in and the staff was v...</td>\n",
       "      <td>0.000</td>\n",
       "      <td>1.000</td>\n",
       "      <td>0.000</td>\n",
       "      <td>0.0000</td>\n",
       "      <td>neu</td>\n",
       "      <td>staff</td>\n",
       "    </tr>\n",
       "    <tr>\n",
       "      <th>6447</th>\n",
       "      <td>United States of America</td>\n",
       "      <td>United States</td>\n",
       "      <td>staff free coffee location and activities the ...</td>\n",
       "      <td>en</td>\n",
       "      <td>staff free coffee location and activities the ...</td>\n",
       "      <td>0.138</td>\n",
       "      <td>0.707</td>\n",
       "      <td>0.156</td>\n",
       "      <td>0.0979</td>\n",
       "      <td>pos</td>\n",
       "      <td>bed</td>\n",
       "    </tr>\n",
       "  </tbody>\n",
       "</table>\n",
       "<p>1711 rows × 11 columns</p>\n",
       "</div>"
      ],
      "text/plain": [
       "                      Location        Country  \\\n",
       "0                    Sebastian         España   \n",
       "1                  Los Angeles        Uruguay   \n",
       "2                      Georgia  United States   \n",
       "4                  Palm Harbor  United States   \n",
       "10                  California  United States   \n",
       "...                        ...            ...   \n",
       "6443  United States of America  United States   \n",
       "6444  United States of America  United States   \n",
       "6445  United States of America  United States   \n",
       "6446  United States of America  United States   \n",
       "6447  United States of America  United States   \n",
       "\n",
       "                                                 Review Languagereveiw  \\\n",
       "0     I was very impressed with the resort Great sta...             en   \n",
       "1     The rooms were nice the outside needs work als...             en   \n",
       "2     Great location I have stayed at this hotel on ...             en   \n",
       "4     Great location room was large and spacious Par...             en   \n",
       "10    Very clean and friendly and I love the locatio...             en   \n",
       "...                                                 ...            ...   \n",
       "6443  the staff were all so friendly frank the chef ...             en   \n",
       "6444           the internet barely worked or didnt work             en   \n",
       "6445  the location was great the bed was the most un...             en   \n",
       "6446  we were early for check in and the staff was v...             en   \n",
       "6447  staff free coffee location and activities the ...             en   \n",
       "\n",
       "                                              Review_en    neg    neu    pos  \\\n",
       "0     i was very impressed with the resort great sta...  0.000  0.617  0.383   \n",
       "1     the rooms were nice the outside needs work als...  0.075  0.546  0.379   \n",
       "2     great location i have stayed at this hotel on ...  0.000  0.773  0.227   \n",
       "4     great location room was large and spacious par...  0.000  0.471  0.529   \n",
       "10    very clean and friendly and i love the locatio...  0.000  0.687  0.313   \n",
       "...                                                 ...    ...    ...    ...   \n",
       "6443  the staff were all so friendly frank the chef ...  0.000  0.828  0.172   \n",
       "6444           the internet barely worked or didnt work  0.000  1.000  0.000   \n",
       "6445  the location was great the bed was the most un...  0.145  0.650  0.205   \n",
       "6446  we were early for check in and the staff was v...  0.000  1.000  0.000   \n",
       "6447  staff free coffee location and activities the ...  0.138  0.707  0.156   \n",
       "\n",
       "        comp Sentiment described_place  \n",
       "0     0.9359       pos                  \n",
       "1     0.8360       pos         outside  \n",
       "2     0.6249       pos                  \n",
       "4     0.9260       pos         parking  \n",
       "10    0.8940       pos                  \n",
       "...      ...       ...             ...  \n",
       "6443  0.9716       pos            pool  \n",
       "6444  0.0000       neu        internet  \n",
       "6445  0.2975       pos             bed  \n",
       "6446  0.0000       neu           staff  \n",
       "6447  0.0979       pos             bed  \n",
       "\n",
       "[1711 rows x 11 columns]"
      ]
     },
     "execution_count": 70,
     "metadata": {},
     "output_type": "execute_result"
    }
   ],
   "source": [
    "df3 = df_loc.join(df)\n",
    "df3"
   ]
  },
  {
   "cell_type": "code",
   "execution_count": 71,
   "id": "6f84262e",
   "metadata": {
    "execution": {
     "iopub.execute_input": "2022-06-05T07:46:59.229046Z",
     "iopub.status.busy": "2022-06-05T07:46:59.228506Z",
     "iopub.status.idle": "2022-06-05T07:46:59.237865Z",
     "shell.execute_reply": "2022-06-05T07:46:59.237206Z"
    },
    "papermill": {
     "duration": 0.0372,
     "end_time": "2022-06-05T07:46:59.239546",
     "exception": false,
     "start_time": "2022-06-05T07:46:59.202346",
     "status": "completed"
    },
    "tags": []
   },
   "outputs": [],
   "source": [
    "new_df2 =  df3[(df3['Country']=='United States') | (df3['Country']=='Canada') | (df3['Country']=='United Kingdom') | (df3['Country']=='Pilipinas / Philippines') | (df3['Country']=='Argentina')][['Country','Sentiment']]"
   ]
  },
  {
   "cell_type": "code",
   "execution_count": 72,
   "id": "1c42a363",
   "metadata": {
    "execution": {
     "iopub.execute_input": "2022-06-05T07:46:59.291346Z",
     "iopub.status.busy": "2022-06-05T07:46:59.291057Z",
     "iopub.status.idle": "2022-06-05T07:46:59.300838Z",
     "shell.execute_reply": "2022-06-05T07:46:59.300154Z"
    },
    "papermill": {
     "duration": 0.037718,
     "end_time": "2022-06-05T07:46:59.302482",
     "exception": false,
     "start_time": "2022-06-05T07:46:59.264764",
     "status": "completed"
    },
    "tags": []
   },
   "outputs": [
    {
     "data": {
      "text/html": [
       "<div>\n",
       "<style scoped>\n",
       "    .dataframe tbody tr th:only-of-type {\n",
       "        vertical-align: middle;\n",
       "    }\n",
       "\n",
       "    .dataframe tbody tr th {\n",
       "        vertical-align: top;\n",
       "    }\n",
       "\n",
       "    .dataframe thead th {\n",
       "        text-align: right;\n",
       "    }\n",
       "</style>\n",
       "<table border=\"1\" class=\"dataframe\">\n",
       "  <thead>\n",
       "    <tr style=\"text-align: right;\">\n",
       "      <th></th>\n",
       "      <th>Country</th>\n",
       "      <th>Sentiment</th>\n",
       "    </tr>\n",
       "  </thead>\n",
       "  <tbody>\n",
       "    <tr>\n",
       "      <th>2</th>\n",
       "      <td>United States</td>\n",
       "      <td>pos</td>\n",
       "    </tr>\n",
       "    <tr>\n",
       "      <th>4</th>\n",
       "      <td>United States</td>\n",
       "      <td>pos</td>\n",
       "    </tr>\n",
       "    <tr>\n",
       "      <th>10</th>\n",
       "      <td>United States</td>\n",
       "      <td>pos</td>\n",
       "    </tr>\n",
       "    <tr>\n",
       "      <th>15</th>\n",
       "      <td>United States</td>\n",
       "      <td>pos</td>\n",
       "    </tr>\n",
       "    <tr>\n",
       "      <th>24</th>\n",
       "      <td>Argentina</td>\n",
       "      <td>neg</td>\n",
       "    </tr>\n",
       "    <tr>\n",
       "      <th>...</th>\n",
       "      <td>...</td>\n",
       "      <td>...</td>\n",
       "    </tr>\n",
       "    <tr>\n",
       "      <th>6443</th>\n",
       "      <td>United States</td>\n",
       "      <td>pos</td>\n",
       "    </tr>\n",
       "    <tr>\n",
       "      <th>6444</th>\n",
       "      <td>United States</td>\n",
       "      <td>neu</td>\n",
       "    </tr>\n",
       "    <tr>\n",
       "      <th>6445</th>\n",
       "      <td>United States</td>\n",
       "      <td>pos</td>\n",
       "    </tr>\n",
       "    <tr>\n",
       "      <th>6446</th>\n",
       "      <td>United States</td>\n",
       "      <td>neu</td>\n",
       "    </tr>\n",
       "    <tr>\n",
       "      <th>6447</th>\n",
       "      <td>United States</td>\n",
       "      <td>pos</td>\n",
       "    </tr>\n",
       "  </tbody>\n",
       "</table>\n",
       "<p>1414 rows × 2 columns</p>\n",
       "</div>"
      ],
      "text/plain": [
       "            Country Sentiment\n",
       "2     United States       pos\n",
       "4     United States       pos\n",
       "10    United States       pos\n",
       "15    United States       pos\n",
       "24        Argentina       neg\n",
       "...             ...       ...\n",
       "6443  United States       pos\n",
       "6444  United States       neu\n",
       "6445  United States       pos\n",
       "6446  United States       neu\n",
       "6447  United States       pos\n",
       "\n",
       "[1414 rows x 2 columns]"
      ]
     },
     "execution_count": 72,
     "metadata": {},
     "output_type": "execute_result"
    }
   ],
   "source": [
    "new_df2"
   ]
  },
  {
   "cell_type": "code",
   "execution_count": 73,
   "id": "f0c70314",
   "metadata": {
    "execution": {
     "iopub.execute_input": "2022-06-05T07:46:59.355175Z",
     "iopub.status.busy": "2022-06-05T07:46:59.354639Z",
     "iopub.status.idle": "2022-06-05T07:46:59.581207Z",
     "shell.execute_reply": "2022-06-05T07:46:59.580509Z"
    },
    "papermill": {
     "duration": 0.255318,
     "end_time": "2022-06-05T07:46:59.583112",
     "exception": false,
     "start_time": "2022-06-05T07:46:59.327794",
     "status": "completed"
    },
    "tags": []
   },
   "outputs": [
    {
     "data": {
      "text/plain": [
       "[Text(0, 0, 'United States'),\n",
       " Text(1, 0, 'Argentina'),\n",
       " Text(2, 0, 'Canada'),\n",
       " Text(3, 0, 'United Kingdom'),\n",
       " Text(4, 0, 'Pilipinas / Philippines')]"
      ]
     },
     "execution_count": 73,
     "metadata": {},
     "output_type": "execute_result"
    },
    {
     "data": {
      "image/png": "[encoded data removed]",
      "text/plain": [
       "<Figure size 432x288 with 1 Axes>"
      ]
     },
     "metadata": {},
     "output_type": "display_data"
    }
   ],
   "source": [
    "ax = sns.countplot(x='Country',data=new_df2,hue = 'Sentiment')\n",
    "ax.set_xticklabels(ax.get_xticklabels(), rotation=40, ha=\"right\")"
   ]
  },
  {
   "cell_type": "markdown",
   "id": "3f9a3167",
   "metadata": {
    "papermill": {
     "duration": 0.02591,
     "end_time": "2022-06-05T07:46:59.635240",
     "exception": false,
     "start_time": "2022-06-05T07:46:59.609330",
     "status": "completed"
    },
    "tags": []
   },
   "source": [
    "## Insight 5: Regarding dates of reviews - Seen in excel Sheet"
   ]
  },
  {
   "cell_type": "code",
   "execution_count": 74,
   "id": "68db32bb",
   "metadata": {
    "execution": {
     "iopub.execute_input": "2022-06-05T07:46:59.689035Z",
     "iopub.status.busy": "2022-06-05T07:46:59.688388Z",
     "iopub.status.idle": "2022-06-05T07:47:00.314657Z",
     "shell.execute_reply": "2022-06-05T07:47:00.313822Z"
    },
    "papermill": {
     "duration": 0.655145,
     "end_time": "2022-06-05T07:47:00.316744",
     "exception": false,
     "start_time": "2022-06-05T07:46:59.661599",
     "status": "completed"
    },
    "tags": []
   },
   "outputs": [],
   "source": [
    "df3.to_excel('./Data Analyst - Test Data_new.xlsx',sheet_name = 'Final')"
   ]
  },
  {
   "cell_type": "markdown",
   "id": "7f969fff",
   "metadata": {
    "papermill": {
     "duration": 0.025971,
     "end_time": "2022-06-05T07:47:00.370138",
     "exception": false,
     "start_time": "2022-06-05T07:47:00.344167",
     "status": "completed"
    },
    "tags": []
   },
   "source": []
  }
 ],
 "metadata": {
  "kernelspec": {
   "display_name": "Python 3",
   "language": "python",
   "name": "python3"
  },
  "language_info": {
   "codemirror_mode": {
    "name": "ipython",
    "version": 3
   },
   "file_extension": ".py",
   "mimetype": "text/x-python",
   "name": "python",
   "nbconvert_exporter": "python",
   "pygments_lexer": "ipython3",
   "version": "3.7.12"
  },
  "papermill": {
   "default_parameters": {},
   "duration": 2328.274609,
   "end_time": "2022-06-05T07:47:03.771586",
   "environment_variables": {},
   "exception": null,
   "input_path": "__notebook__.ipynb",
   "output_path": "__notebook__.ipynb",
   "parameters": {},
   "start_time": "2022-06-05T07:08:15.496977",
   "version": "2.3.4"
  }
 },
 "nbformat": 4,
 "nbformat_minor": 5
}
